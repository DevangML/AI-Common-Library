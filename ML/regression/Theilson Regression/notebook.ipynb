{
 "cells": [
  {
   "cell_type": "markdown",
   "metadata": {},
   "source": [
    "# Theil Sen regression\n",
    "\n",
    "Theil Sen regression involves fitting multiple regression models on subsets of the training data and combining the coefficients together in the end.\n",
    "\n",
    "Thiel sen regression is better than huber and RANSAC regression"
   ]
  },
  {
   "cell_type": "code",
   "execution_count": 1,
   "metadata": {},
   "outputs": [],
   "source": [
    "from random import random\n",
    "from random import randint\n",
    "from random import seed\n",
    "from numpy import arange\n",
    "from numpy import mean\n",
    "from numpy import std\n",
    "from numpy import absolute\n",
    "from sklearn.datasets import make_regression\n",
    "from sklearn.linear_model import TheilSenRegressor\n",
    "from sklearn.model_selection import cross_val_score\n",
    "from sklearn.model_selection import RepeatedKFold\n",
    "from matplotlib import pyplot"
   ]
  },
  {
   "cell_type": "code",
   "execution_count": 2,
   "metadata": {},
   "outputs": [],
   "source": [
    "seed(1)\n",
    "X, y = make_regression(n_samples=100, n_features=1, tail_strength=0.9, effective_rank=1, n_informative=1, noise=3, bias=50, random_state=1)\n",
    "# add some artificial outliers\n",
    "\n",
    "for i in range(10):\n",
    "  factor = randint(2, 4)\n",
    "  if random() > 0.5:\n",
    "    X[i] += factor * X.std()\n",
    "  else:\n",
    "    X[i] -= factor * X.std()"
   ]
  },
  {
   "cell_type": "code",
   "execution_count": 3,
   "metadata": {},
   "outputs": [],
   "source": [
    "model = TheilSenRegressor()"
   ]
  },
  {
   "cell_type": "code",
   "execution_count": 4,
   "metadata": {},
   "outputs": [
    {
     "data": {
      "text/plain": [
       "array([ 1.56029453,  2.34842728,  5.51915506,  2.51301099,  2.75699321,\n",
       "        5.77745548,  6.79913654,  4.10245464,  5.29771098,  7.0300975 ,\n",
       "        6.55076383,  7.3974686 ,  5.39954986,  2.2690354 ,  1.46098948,\n",
       "        3.91572015,  2.54071748,  2.38372275,  1.81243079, 10.43262342,\n",
       "        4.75558598,  3.92117126,  4.1167637 ,  4.36900999,  5.01838579,\n",
       "        4.23263941,  4.01917062,  3.76679863,  4.72703726,  4.34738655])"
      ]
     },
     "execution_count": 4,
     "metadata": {},
     "output_type": "execute_result"
    }
   ],
   "source": [
    "# define model evaluation method\n",
    "cv = RepeatedKFold(n_splits=10, n_repeats=3, random_state=1)\n",
    "# evaluate model\n",
    "scores = cross_val_score(model, X, y, scoring='neg_mean_absolute_error', cv=cv, n_jobs=-1)\n",
    "# force scores to be positive\n",
    "absolute(scores)"
   ]
  },
  {
   "cell_type": "code",
   "execution_count": 5,
   "metadata": {},
   "outputs": [
    {
     "data": {
      "image/png": "[encoded data removed]",
      "text/plain": [
       "<Figure size 432x288 with 1 Axes>"
      ]
     },
     "metadata": {
      "needs_background": "light"
     },
     "output_type": "display_data"
    }
   ],
   "source": [
    "# fut the model on all data\n",
    "model.fit(X, y)\n",
    "# plot the dataset\n",
    "pyplot.scatter(X, y)\n",
    "# plot the line of best fit\n",
    "xaxis = arange(X.min(), X.max(), 0.01)\n",
    "yaxis = model.predict(xaxis.reshape((len(xaxis), 1)))\n",
    "pyplot.plot(xaxis, yaxis, color='r')\n",
    "# show the plot\n",
    "pyplot.title(type(model).__name__)\n",
    "pyplot.show()"
   ]
  }
 ],
 "metadata": {
  "kernelspec": {
   "display_name": "Python 3.10.5 64-bit",
   "language": "python",
   "name": "python3"
  },
  "language_info": {
   "codemirror_mode": {
    "name": "ipython",
    "version": 3
   },
   "file_extension": ".py",
   "mimetype": "text/x-python",
   "name": "python",
   "nbconvert_exporter": "python",
   "pygments_lexer": "ipython3",
   "version": "3.10.5"
  },
  "orig_nbformat": 4,
  "vscode": {
   "interpreter": {
    "hash": "e7370f93d1d0cde622a1f8e1c04877d8463912d04d973331ad4851f04de6915a"
   }
  }
 },
 "nbformat": 4,
 "nbformat_minor": 2
}
