{
 "cells": [
  {
   "cell_type": "markdown",
   "metadata": {},
   "source": [
    "# Survival Analysis\n",
    "\n",
    "Survival analysis is a set of statistical approaches used to find out the time it takes for an event of interest to occur. Survival analysis is used to study the time until some event of interest (often referred to as death) occurs"
   ]
  },
  {
   "cell_type": "markdown",
   "metadata": {},
   "source": [
    "# Cancer Studies\n",
    "\n",
    "In cancer studies, most of the survival analyses use the following methods.\n",
    "\n",
    "(1) Kaplan-Meier plots to visualize survival curves.\n",
    "\n",
    "(2) Nelson-Aalen plots to visualize the cumulative hazard.\n",
    "\n",
    "(3) Log-rank test to compare the survival curves of two or more groups\n",
    "\n",
    "(4) Cox proportional hazards regression to find out the effect of different variables like age, sex, weight on survival."
   ]
  },
  {
   "cell_type": "markdown",
   "metadata": {},
   "source": [
    "# Terminology\n",
    "\n",
    "## Survival time and event:\n",
    "\n",
    "Survival Time: referred to an amount of time until when a subject is alive or actively participates in a survey.\n",
    "\n",
    "There are mainly three types of events, including:\n",
    "\n",
    "(1) Relapse: a deterioration in someone’s state of health after a temporary improvement.\n",
    "\n",
    "(2) Progression: the process of developing or moving gradually towards a more advanced state. ( Improvement in health.)\n",
    "\n",
    "(3) Death: the destruction or permanent end of something.\n",
    "\n",
    "## Censoring of data:\n",
    "\n",
    "As mentioned above, survival analysis focuses on the occurrence of an event of interest (e.g., birth, death, retirement). But there is still a possibility that the event may not be observed for various reasons. Such observations are known as censored observations.\n",
    "\n",
    "Censoring may arise in the following ways:\n",
    "\n",
    "A patient has not (yet) experienced the event of interest (death or relapse in our case) within the study period.\n",
    "A patient is not followed anymore.\n",
    "If a patient moves to another city, then follow-up might not be possible for the hospital staff.\n",
    "This type of censoring, named right censoring, is handled in survival analysis.\n",
    "\n",
    "There are three general types of censoring, right-censoring, left-censoring, and interval-censoring.\n",
    "\n",
    "Right Censoring: The death of the person.\n",
    "\n",
    "Left Censoring: The event can’t be observed for some reason. It includes events that occurred before the experiment started. (e.g., number of days from birth when the kid started walking.)\n",
    "\n",
    "Interval Censoring: When we have data for some intervals only.\n",
    "\n",
    "## Survival function and hazard function\n",
    "\n",
    "We generally use two related probabilities to analyse survival data.\n",
    "\n",
    "(1) The survival probability\n",
    "\n",
    "(2) The hazard probability\n",
    "\n",
    "To find survival probability, we’ll be using survivor function S(t), which is the Kaplan-Meier Estimator. Survival probability is the probability that an individual (e.g., patient) survives from the time origin (e.g., diagnosis of cancer) to a specified future time t. For example, S(200) = 0.7 means that after 200 days has passed since the diagnosis of cancer, the patient’s survival probability has dropped to 0.7. If the person stays alive at the end of an experiment, then that data will be censored.\n",
    "\n",
    "The hazard probability, denoted by h(t), is the probability that an individual(e.g., patient) who is under observation at a time t has an event(e.g., death) at that time. For example, If h(200) = 0.7, then it means that the probability of that person being dead at time t=200 days is 0.7.\n",
    "\n",
    "Note that, in contrast to the survivor function, which focuses on not having an event, the hazard function focuses on the event occurring. I think we can clearly see that higher survival probability and lower hazard probability is good for the patient.\n"
   ]
  },
  {
   "cell_type": "markdown",
   "metadata": {},
   "source": [
    "# Kaplan-Meier Estimator (Without any groups)"
   ]
  },
  {
   "cell_type": "code",
   "execution_count": null,
   "metadata": {},
   "outputs": [],
   "source": [
    "import pandas as pd\n",
    "import numpy as np\n",
    "import matplotlib.pyplot as plt\n",
    "from lifelines import KaplanMeierFitter"
   ]
  },
  {
   "cell_type": "code",
   "execution_count": null,
   "metadata": {},
   "outputs": [],
   "source": [
    "data = pd.read_csv(\"lung.csv\")\n",
    "data.head()"
   ]
  },
  {
   "cell_type": "code",
   "execution_count": null,
   "metadata": {},
   "outputs": [],
   "source": [
    "data.columns"
   ]
  },
  {
   "cell_type": "code",
   "execution_count": null,
   "metadata": {},
   "outputs": [],
   "source": [
    "data.info()"
   ]
  },
  {
   "cell_type": "code",
   "execution_count": null,
   "metadata": {},
   "outputs": [],
   "source": [
    "data.describe()"
   ]
  },
  {
   "cell_type": "code",
   "execution_count": null,
   "metadata": {},
   "outputs": [],
   "source": [
    "data[\"sex\"].hist()"
   ]
  },
  {
   "cell_type": "code",
   "execution_count": null,
   "metadata": {},
   "outputs": [],
   "source": [
    "kmf = KaplanMeierFitter()"
   ]
  },
  {
   "cell_type": "code",
   "execution_count": null,
   "metadata": {},
   "outputs": [],
   "source": [
    "data.loc[data.status == 1, 'dead'] = 0\n",
    "\n",
    "data.loc[data.status == 2, 'dead'] = 1\n",
    "\n",
    "data.head()"
   ]
  },
  {
   "cell_type": "code",
   "execution_count": null,
   "metadata": {},
   "outputs": [],
   "source": [
    "kmf.fit(durations = data[\"time\"], event_observed= data[\"dead\"])"
   ]
  },
  {
   "cell_type": "code",
   "execution_count": null,
   "metadata": {},
   "outputs": [],
   "source": [
    "# In the kmf event table we make some observations during EDA\n",
    "\n",
    "# Removed = Observed + Censored\n",
    "# Censored = Person that can't die (No use to us!)\n",
    "# Observed = Persons that died\n",
    "\n",
    "kmf.event_table"
   ]
  },
  {
   "cell_type": "markdown",
   "metadata": {},
   "source": [
    "We can calculate all prediction by hand but kmf does them for us"
   ]
  },
  {
   "cell_type": "code",
   "execution_count": 14,
   "metadata": {},
   "outputs": [
    {
     "data": {
      "text/plain": [
       "0.9824561403508766"
      ]
     },
     "execution_count": 14,
     "metadata": {},
     "output_type": "execute_result"
    }
   ],
   "source": [
    "kmf.predict(11)"
   ]
  },
  {
   "cell_type": "code",
   "execution_count": 16,
   "metadata": {},
   "outputs": [
    {
     "data": {
      "text/plain": [
       "0     1.000000\n",
       "5     0.995614\n",
       "11    0.982456\n",
       "12    0.978070\n",
       "Name: KM_estimate, dtype: float64"
      ]
     },
     "execution_count": 16,
     "metadata": {},
     "output_type": "execute_result"
    }
   ],
   "source": [
    "kmf.predict([0,5,11,12])"
   ]
  },
  {
   "cell_type": "code",
   "execution_count": 17,
   "metadata": {},
   "outputs": [
    {
     "data": {
      "text/html": [
       "<div>\n",
       "<style scoped>\n",
       "    .dataframe tbody tr th:only-of-type {\n",
       "        vertical-align: middle;\n",
       "    }\n",
       "\n",
       "    .dataframe tbody tr th {\n",
       "        vertical-align: top;\n",
       "    }\n",
       "\n",
       "    .dataframe thead th {\n",
       "        text-align: right;\n",
       "    }\n",
       "</style>\n",
       "<table border=\"1\" class=\"dataframe\">\n",
       "  <thead>\n",
       "    <tr style=\"text-align: right;\">\n",
       "      <th></th>\n",
       "      <th>KM_estimate</th>\n",
       "    </tr>\n",
       "    <tr>\n",
       "      <th>timeline</th>\n",
       "      <th></th>\n",
       "    </tr>\n",
       "  </thead>\n",
       "  <tbody>\n",
       "    <tr>\n",
       "      <th>0.0</th>\n",
       "      <td>1.000000</td>\n",
       "    </tr>\n",
       "    <tr>\n",
       "      <th>5.0</th>\n",
       "      <td>0.995614</td>\n",
       "    </tr>\n",
       "    <tr>\n",
       "      <th>11.0</th>\n",
       "      <td>0.982456</td>\n",
       "    </tr>\n",
       "    <tr>\n",
       "      <th>12.0</th>\n",
       "      <td>0.978070</td>\n",
       "    </tr>\n",
       "    <tr>\n",
       "      <th>13.0</th>\n",
       "      <td>0.969298</td>\n",
       "    </tr>\n",
       "    <tr>\n",
       "      <th>...</th>\n",
       "      <td>...</td>\n",
       "    </tr>\n",
       "    <tr>\n",
       "      <th>840.0</th>\n",
       "      <td>0.067127</td>\n",
       "    </tr>\n",
       "    <tr>\n",
       "      <th>883.0</th>\n",
       "      <td>0.050346</td>\n",
       "    </tr>\n",
       "    <tr>\n",
       "      <th>965.0</th>\n",
       "      <td>0.050346</td>\n",
       "    </tr>\n",
       "    <tr>\n",
       "      <th>1010.0</th>\n",
       "      <td>0.050346</td>\n",
       "    </tr>\n",
       "    <tr>\n",
       "      <th>1022.0</th>\n",
       "      <td>0.050346</td>\n",
       "    </tr>\n",
       "  </tbody>\n",
       "</table>\n",
       "<p>187 rows × 1 columns</p>\n",
       "</div>"
      ],
      "text/plain": [
       "          KM_estimate\n",
       "timeline             \n",
       "0.0          1.000000\n",
       "5.0          0.995614\n",
       "11.0         0.982456\n",
       "12.0         0.978070\n",
       "13.0         0.969298\n",
       "...               ...\n",
       "840.0        0.067127\n",
       "883.0        0.050346\n",
       "965.0        0.050346\n",
       "1010.0       0.050346\n",
       "1022.0       0.050346\n",
       "\n",
       "[187 rows x 1 columns]"
      ]
     },
     "execution_count": 17,
     "metadata": {},
     "output_type": "execute_result"
    }
   ],
   "source": [
    "kmf.survival_function_ # Shows all predictions using kmf"
   ]
  },
  {
   "cell_type": "code",
   "execution_count": 18,
   "metadata": {},
   "outputs": [
    {
     "data": {
      "text/plain": [
       "310.0"
      ]
     },
     "execution_count": 18,
     "metadata": {},
     "output_type": "execute_result"
    }
   ],
   "source": [
    "# It provides the number of days where on average 50% of patients died.\n",
    "kmf.median_survival_time_\n"
   ]
  },
  {
   "cell_type": "code",
   "execution_count": 19,
   "metadata": {},
   "outputs": [
    {
     "data": {
      "image/png": "[encoded data removed]",
      "text/plain": [
       "<Figure size 432x288 with 1 Axes>"
      ]
     },
     "metadata": {
      "needs_background": "light"
     },
     "output_type": "display_data"
    }
   ],
   "source": [
    "# Plot the graph :\n",
    "kmf.plot()\n",
    "plt.title(\"The Kaplan-Meier Estimate\")\n",
    "plt.ylabel(\"Probability of patient still alive\")\n",
    "plt.show()"
   ]
  },
  {
   "cell_type": "code",
   "execution_count": 20,
   "metadata": {},
   "outputs": [
    {
     "data": {
      "text/html": [
       "<div>\n",
       "<style scoped>\n",
       "    .dataframe tbody tr th:only-of-type {\n",
       "        vertical-align: middle;\n",
       "    }\n",
       "\n",
       "    .dataframe tbody tr th {\n",
       "        vertical-align: top;\n",
       "    }\n",
       "\n",
       "    .dataframe thead th {\n",
       "        text-align: right;\n",
       "    }\n",
       "</style>\n",
       "<table border=\"1\" class=\"dataframe\">\n",
       "  <thead>\n",
       "    <tr style=\"text-align: right;\">\n",
       "      <th></th>\n",
       "      <th>KM_estimate_lower_0.95</th>\n",
       "      <th>KM_estimate_upper_0.95</th>\n",
       "    </tr>\n",
       "  </thead>\n",
       "  <tbody>\n",
       "    <tr>\n",
       "      <th>0.0</th>\n",
       "      <td>1.000000</td>\n",
       "      <td>1.000000</td>\n",
       "    </tr>\n",
       "    <tr>\n",
       "      <th>5.0</th>\n",
       "      <td>0.969277</td>\n",
       "      <td>0.999381</td>\n",
       "    </tr>\n",
       "    <tr>\n",
       "      <th>11.0</th>\n",
       "      <td>0.953935</td>\n",
       "      <td>0.993379</td>\n",
       "    </tr>\n",
       "    <tr>\n",
       "      <th>12.0</th>\n",
       "      <td>0.948120</td>\n",
       "      <td>0.990813</td>\n",
       "    </tr>\n",
       "    <tr>\n",
       "      <th>13.0</th>\n",
       "      <td>0.936682</td>\n",
       "      <td>0.985244</td>\n",
       "    </tr>\n",
       "    <tr>\n",
       "      <th>...</th>\n",
       "      <td>...</td>\n",
       "      <td>...</td>\n",
       "    </tr>\n",
       "    <tr>\n",
       "      <th>840.0</th>\n",
       "      <td>0.030728</td>\n",
       "      <td>0.123060</td>\n",
       "    </tr>\n",
       "    <tr>\n",
       "      <th>883.0</th>\n",
       "      <td>0.017866</td>\n",
       "      <td>0.108662</td>\n",
       "    </tr>\n",
       "    <tr>\n",
       "      <th>965.0</th>\n",
       "      <td>0.017866</td>\n",
       "      <td>0.108662</td>\n",
       "    </tr>\n",
       "    <tr>\n",
       "      <th>1010.0</th>\n",
       "      <td>0.017866</td>\n",
       "      <td>0.108662</td>\n",
       "    </tr>\n",
       "    <tr>\n",
       "      <th>1022.0</th>\n",
       "      <td>0.017866</td>\n",
       "      <td>0.108662</td>\n",
       "    </tr>\n",
       "  </tbody>\n",
       "</table>\n",
       "<p>187 rows × 2 columns</p>\n",
       "</div>"
      ],
      "text/plain": [
       "        KM_estimate_lower_0.95  KM_estimate_upper_0.95\n",
       "0.0                   1.000000                1.000000\n",
       "5.0                   0.969277                0.999381\n",
       "11.0                  0.953935                0.993379\n",
       "12.0                  0.948120                0.990813\n",
       "13.0                  0.936682                0.985244\n",
       "...                        ...                     ...\n",
       "840.0                 0.030728                0.123060\n",
       "883.0                 0.017866                0.108662\n",
       "965.0                 0.017866                0.108662\n",
       "1010.0                0.017866                0.108662\n",
       "1022.0                0.017866                0.108662\n",
       "\n",
       "[187 rows x 2 columns]"
      ]
     },
     "execution_count": 20,
     "metadata": {},
     "output_type": "execute_result"
    }
   ],
   "source": [
    "kmf.confidence_interval_"
   ]
  },
  {
   "cell_type": "code",
   "execution_count": 21,
   "metadata": {},
   "outputs": [
    {
     "data": {
      "text/html": [
       "<div>\n",
       "<style scoped>\n",
       "    .dataframe tbody tr th:only-of-type {\n",
       "        vertical-align: middle;\n",
       "    }\n",
       "\n",
       "    .dataframe tbody tr th {\n",
       "        vertical-align: top;\n",
       "    }\n",
       "\n",
       "    .dataframe thead th {\n",
       "        text-align: right;\n",
       "    }\n",
       "</style>\n",
       "<table border=\"1\" class=\"dataframe\">\n",
       "  <thead>\n",
       "    <tr style=\"text-align: right;\">\n",
       "      <th></th>\n",
       "      <th>KM_estimate</th>\n",
       "    </tr>\n",
       "    <tr>\n",
       "      <th>timeline</th>\n",
       "      <th></th>\n",
       "    </tr>\n",
       "  </thead>\n",
       "  <tbody>\n",
       "    <tr>\n",
       "      <th>0.0</th>\n",
       "      <td>0.000000</td>\n",
       "    </tr>\n",
       "    <tr>\n",
       "      <th>5.0</th>\n",
       "      <td>0.004386</td>\n",
       "    </tr>\n",
       "    <tr>\n",
       "      <th>11.0</th>\n",
       "      <td>0.017544</td>\n",
       "    </tr>\n",
       "    <tr>\n",
       "      <th>12.0</th>\n",
       "      <td>0.021930</td>\n",
       "    </tr>\n",
       "    <tr>\n",
       "      <th>13.0</th>\n",
       "      <td>0.030702</td>\n",
       "    </tr>\n",
       "    <tr>\n",
       "      <th>...</th>\n",
       "      <td>...</td>\n",
       "    </tr>\n",
       "    <tr>\n",
       "      <th>840.0</th>\n",
       "      <td>0.932873</td>\n",
       "    </tr>\n",
       "    <tr>\n",
       "      <th>883.0</th>\n",
       "      <td>0.949654</td>\n",
       "    </tr>\n",
       "    <tr>\n",
       "      <th>965.0</th>\n",
       "      <td>0.949654</td>\n",
       "    </tr>\n",
       "    <tr>\n",
       "      <th>1010.0</th>\n",
       "      <td>0.949654</td>\n",
       "    </tr>\n",
       "    <tr>\n",
       "      <th>1022.0</th>\n",
       "      <td>0.949654</td>\n",
       "    </tr>\n",
       "  </tbody>\n",
       "</table>\n",
       "<p>187 rows × 1 columns</p>\n",
       "</div>"
      ],
      "text/plain": [
       "          KM_estimate\n",
       "timeline             \n",
       "0.0          0.000000\n",
       "5.0          0.004386\n",
       "11.0         0.017544\n",
       "12.0         0.021930\n",
       "13.0         0.030702\n",
       "...               ...\n",
       "840.0        0.932873\n",
       "883.0        0.949654\n",
       "965.0        0.949654\n",
       "1010.0       0.949654\n",
       "1022.0       0.949654\n",
       "\n",
       "[187 rows x 1 columns]"
      ]
     },
     "execution_count": 21,
     "metadata": {},
     "output_type": "execute_result"
    }
   ],
   "source": [
    "# Probability of dying\n",
    "\n",
    "kmf.cumulative_density_"
   ]
  },
  {
   "cell_type": "code",
   "execution_count": 22,
   "metadata": {},
   "outputs": [
    {
     "data": {
      "text/plain": [
       "<AxesSubplot:xlabel='timeline'>"
      ]
     },
     "execution_count": 22,
     "metadata": {},
     "output_type": "execute_result"
    },
    {
     "data": {
      "image/png": "[encoded data removed]",
      "text/plain": [
       "<Figure size 432x288 with 1 Axes>"
      ]
     },
     "metadata": {
      "needs_background": "light"
     },
     "output_type": "display_data"
    }
   ],
   "source": [
    "# Plot the graph :\n",
    "kmf.plot_cumulative_density()"
   ]
  },
  {
   "cell_type": "markdown",
   "metadata": {},
   "source": [
    "## Now we will find the hazard function"
   ]
  },
  {
   "cell_type": "code",
   "execution_count": 25,
   "metadata": {},
   "outputs": [
    {
     "data": {
      "text/plain": [
       "<AxesSubplot:xlabel='timeline'>"
      ]
     },
     "execution_count": 25,
     "metadata": {},
     "output_type": "execute_result"
    },
    {
     "data": {
      "image/png": "[encoded data removed]",
      "text/plain": [
       "<Figure size 432x288 with 1 Axes>"
      ]
     },
     "metadata": {
      "needs_background": "light"
     },
     "output_type": "display_data"
    }
   ],
   "source": [
    "from lifelines import NelsonAalenFitter\n",
    "\n",
    "naf = NelsonAalenFitter()\n",
    "naf.fit(data[\"time\"],event_observed = data[\"dead\"])\n",
    "naf.cumulative_hazard_\n",
    "naf.plot()"
   ]
  },
  {
   "cell_type": "code",
   "execution_count": 26,
   "metadata": {},
   "outputs": [
    {
     "data": {
      "text/plain": [
       "2.8915648373471052"
      ]
     },
     "execution_count": 26,
     "metadata": {},
     "output_type": "execute_result"
    }
   ],
   "source": [
    "# Predicting value at certain point\n",
    "\n",
    "naf.predict(1022)"
   ]
  }
 ],
 "metadata": {
  "kernelspec": {
   "display_name": "Python 3.10.5 64-bit",
   "language": "python",
   "name": "python3"
  },
  "language_info": {
   "codemirror_mode": {
    "name": "ipython",
    "version": 3
   },
   "file_extension": ".py",
   "mimetype": "text/x-python",
   "name": "python",
   "nbconvert_exporter": "python",
   "pygments_lexer": "ipython3",
   "version": "3.10.5"
  },
  "orig_nbformat": 4,
  "vscode": {
   "interpreter": {
    "hash": "e7370f93d1d0cde622a1f8e1c04877d8463912d04d973331ad4851f04de6915a"
   }
  }
 },
 "nbformat": 4,
 "nbformat_minor": 2
}
