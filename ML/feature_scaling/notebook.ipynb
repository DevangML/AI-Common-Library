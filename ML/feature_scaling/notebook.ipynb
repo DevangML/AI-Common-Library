{
 "cells": [
  {
   "cell_type": "markdown",
   "metadata": {},
   "source": [
    "Feature Scaling is done with speedup gradient descent convergence, or to reduce average euclidian distance and overall ML model performance in many models"
   ]
  },
  {
   "cell_type": "markdown",
   "metadata": {},
   "source": [
    "We should not use feature scaling in Decision Tree, random forest, XGBoost"
   ]
  },
  {
   "cell_type": "code",
   "execution_count": 1,
   "metadata": {},
   "outputs": [],
   "source": [
    "import pandas as pd\n",
    "import numpy as np"
   ]
  },
  {
   "cell_type": "code",
   "execution_count": 2,
   "metadata": {},
   "outputs": [
    {
     "data": {
      "text/html": [
       "<div>\n",
       "<style scoped>\n",
       "    .dataframe tbody tr th:only-of-type {\n",
       "        vertical-align: middle;\n",
       "    }\n",
       "\n",
       "    .dataframe tbody tr th {\n",
       "        vertical-align: top;\n",
       "    }\n",
       "\n",
       "    .dataframe thead th {\n",
       "        text-align: right;\n",
       "    }\n",
       "</style>\n",
       "<table border=\"1\" class=\"dataframe\">\n",
       "  <thead>\n",
       "    <tr style=\"text-align: right;\">\n",
       "      <th></th>\n",
       "      <th>Car</th>\n",
       "      <th>MPG</th>\n",
       "      <th>Cylinders</th>\n",
       "      <th>Displacement</th>\n",
       "      <th>Horsepower</th>\n",
       "      <th>Weight</th>\n",
       "      <th>Acceleration</th>\n",
       "      <th>Model</th>\n",
       "      <th>Origin</th>\n",
       "    </tr>\n",
       "  </thead>\n",
       "  <tbody>\n",
       "    <tr>\n",
       "      <th>0</th>\n",
       "      <td>STRING</td>\n",
       "      <td>DOUBLE</td>\n",
       "      <td>INT</td>\n",
       "      <td>DOUBLE</td>\n",
       "      <td>DOUBLE</td>\n",
       "      <td>DOUBLE</td>\n",
       "      <td>DOUBLE</td>\n",
       "      <td>INT</td>\n",
       "      <td>CAT</td>\n",
       "    </tr>\n",
       "    <tr>\n",
       "      <th>1</th>\n",
       "      <td>Chevrolet Chevelle Malibu</td>\n",
       "      <td>18.0</td>\n",
       "      <td>8</td>\n",
       "      <td>307.0</td>\n",
       "      <td>130.0</td>\n",
       "      <td>3504.</td>\n",
       "      <td>12.0</td>\n",
       "      <td>70</td>\n",
       "      <td>US</td>\n",
       "    </tr>\n",
       "    <tr>\n",
       "      <th>2</th>\n",
       "      <td>Buick Skylark 320</td>\n",
       "      <td>15.0</td>\n",
       "      <td>8</td>\n",
       "      <td>350.0</td>\n",
       "      <td>165.0</td>\n",
       "      <td>3693.</td>\n",
       "      <td>11.5</td>\n",
       "      <td>70</td>\n",
       "      <td>US</td>\n",
       "    </tr>\n",
       "    <tr>\n",
       "      <th>3</th>\n",
       "      <td>Plymouth Satellite</td>\n",
       "      <td>18.0</td>\n",
       "      <td>8</td>\n",
       "      <td>318.0</td>\n",
       "      <td>150.0</td>\n",
       "      <td>3436.</td>\n",
       "      <td>11.0</td>\n",
       "      <td>70</td>\n",
       "      <td>US</td>\n",
       "    </tr>\n",
       "    <tr>\n",
       "      <th>4</th>\n",
       "      <td>AMC Rebel SST</td>\n",
       "      <td>16.0</td>\n",
       "      <td>8</td>\n",
       "      <td>304.0</td>\n",
       "      <td>150.0</td>\n",
       "      <td>3433.</td>\n",
       "      <td>12.0</td>\n",
       "      <td>70</td>\n",
       "      <td>US</td>\n",
       "    </tr>\n",
       "    <tr>\n",
       "      <th>5</th>\n",
       "      <td>Ford Torino</td>\n",
       "      <td>17.0</td>\n",
       "      <td>8</td>\n",
       "      <td>302.0</td>\n",
       "      <td>140.0</td>\n",
       "      <td>3449.</td>\n",
       "      <td>10.5</td>\n",
       "      <td>70</td>\n",
       "      <td>US</td>\n",
       "    </tr>\n",
       "    <tr>\n",
       "      <th>6</th>\n",
       "      <td>Ford Galaxie 500</td>\n",
       "      <td>15.0</td>\n",
       "      <td>8</td>\n",
       "      <td>429.0</td>\n",
       "      <td>198.0</td>\n",
       "      <td>4341.</td>\n",
       "      <td>10.0</td>\n",
       "      <td>70</td>\n",
       "      <td>US</td>\n",
       "    </tr>\n",
       "    <tr>\n",
       "      <th>7</th>\n",
       "      <td>Chevrolet Impala</td>\n",
       "      <td>14.0</td>\n",
       "      <td>8</td>\n",
       "      <td>454.0</td>\n",
       "      <td>220.0</td>\n",
       "      <td>4354.</td>\n",
       "      <td>9.0</td>\n",
       "      <td>70</td>\n",
       "      <td>US</td>\n",
       "    </tr>\n",
       "    <tr>\n",
       "      <th>8</th>\n",
       "      <td>Plymouth Fury iii</td>\n",
       "      <td>14.0</td>\n",
       "      <td>8</td>\n",
       "      <td>440.0</td>\n",
       "      <td>215.0</td>\n",
       "      <td>4312.</td>\n",
       "      <td>8.5</td>\n",
       "      <td>70</td>\n",
       "      <td>US</td>\n",
       "    </tr>\n",
       "    <tr>\n",
       "      <th>9</th>\n",
       "      <td>Pontiac Catalina</td>\n",
       "      <td>14.0</td>\n",
       "      <td>8</td>\n",
       "      <td>455.0</td>\n",
       "      <td>225.0</td>\n",
       "      <td>4425.</td>\n",
       "      <td>10.0</td>\n",
       "      <td>70</td>\n",
       "      <td>US</td>\n",
       "    </tr>\n",
       "    <tr>\n",
       "      <th>10</th>\n",
       "      <td>AMC Ambassador DPL</td>\n",
       "      <td>15.0</td>\n",
       "      <td>8</td>\n",
       "      <td>390.0</td>\n",
       "      <td>190.0</td>\n",
       "      <td>3850.</td>\n",
       "      <td>8.5</td>\n",
       "      <td>70</td>\n",
       "      <td>US</td>\n",
       "    </tr>\n",
       "  </tbody>\n",
       "</table>\n",
       "</div>"
      ],
      "text/plain": [
       "                          Car     MPG Cylinders Displacement Horsepower  \\\n",
       "0                      STRING  DOUBLE       INT       DOUBLE     DOUBLE   \n",
       "1   Chevrolet Chevelle Malibu    18.0         8        307.0      130.0   \n",
       "2           Buick Skylark 320    15.0         8        350.0      165.0   \n",
       "3          Plymouth Satellite    18.0         8        318.0      150.0   \n",
       "4               AMC Rebel SST    16.0         8        304.0      150.0   \n",
       "5                 Ford Torino    17.0         8        302.0      140.0   \n",
       "6            Ford Galaxie 500    15.0         8        429.0      198.0   \n",
       "7            Chevrolet Impala    14.0         8        454.0      220.0   \n",
       "8           Plymouth Fury iii    14.0         8        440.0      215.0   \n",
       "9            Pontiac Catalina    14.0         8        455.0      225.0   \n",
       "10         AMC Ambassador DPL    15.0         8        390.0      190.0   \n",
       "\n",
       "    Weight Acceleration Model Origin  \n",
       "0   DOUBLE       DOUBLE   INT    CAT  \n",
       "1    3504.         12.0    70     US  \n",
       "2    3693.         11.5    70     US  \n",
       "3    3436.         11.0    70     US  \n",
       "4    3433.         12.0    70     US  \n",
       "5    3449.         10.5    70     US  \n",
       "6    4341.         10.0    70     US  \n",
       "7    4354.          9.0    70     US  \n",
       "8    4312.          8.5    70     US  \n",
       "9    4425.         10.0    70     US  \n",
       "10   3850.          8.5    70     US  "
      ]
     },
     "execution_count": 2,
     "metadata": {},
     "output_type": "execute_result"
    }
   ],
   "source": [
    "dataset = pd.read_csv(\"data.csv\", delimiter=';')\n",
    "df = dataset.head(11)\n",
    "df"
   ]
  },
  {
   "cell_type": "code",
   "execution_count": 3,
   "metadata": {},
   "outputs": [
    {
     "name": "stderr",
     "output_type": "stream",
     "text": [
      "/tmp/ipykernel_32991/4184335015.py:2: SettingWithCopyWarning: \n",
      "A value is trying to be set on a copy of a slice from a DataFrame.\n",
      "Try using .loc[row_indexer,col_indexer] = value instead\n",
      "\n",
      "See the caveats in the documentation: https://pandas.pydata.org/pandas-docs/stable/user_guide/indexing.html#returning-a-view-versus-a-copy\n",
      "  df['Buy']=buy\n"
     ]
    },
    {
     "data": {
      "text/html": [
       "<div>\n",
       "<style scoped>\n",
       "    .dataframe tbody tr th:only-of-type {\n",
       "        vertical-align: middle;\n",
       "    }\n",
       "\n",
       "    .dataframe tbody tr th {\n",
       "        vertical-align: top;\n",
       "    }\n",
       "\n",
       "    .dataframe thead th {\n",
       "        text-align: right;\n",
       "    }\n",
       "</style>\n",
       "<table border=\"1\" class=\"dataframe\">\n",
       "  <thead>\n",
       "    <tr style=\"text-align: right;\">\n",
       "      <th></th>\n",
       "      <th>Car</th>\n",
       "      <th>MPG</th>\n",
       "      <th>Cylinders</th>\n",
       "      <th>Displacement</th>\n",
       "      <th>Horsepower</th>\n",
       "      <th>Weight</th>\n",
       "      <th>Acceleration</th>\n",
       "      <th>Model</th>\n",
       "      <th>Origin</th>\n",
       "      <th>Buy</th>\n",
       "    </tr>\n",
       "  </thead>\n",
       "  <tbody>\n",
       "    <tr>\n",
       "      <th>0</th>\n",
       "      <td>STRING</td>\n",
       "      <td>DOUBLE</td>\n",
       "      <td>INT</td>\n",
       "      <td>DOUBLE</td>\n",
       "      <td>DOUBLE</td>\n",
       "      <td>DOUBLE</td>\n",
       "      <td>DOUBLE</td>\n",
       "      <td>INT</td>\n",
       "      <td>CAT</td>\n",
       "      <td>FLOAT</td>\n",
       "    </tr>\n",
       "    <tr>\n",
       "      <th>1</th>\n",
       "      <td>Chevrolet Chevelle Malibu</td>\n",
       "      <td>18.0</td>\n",
       "      <td>8</td>\n",
       "      <td>307.0</td>\n",
       "      <td>130.0</td>\n",
       "      <td>3504.</td>\n",
       "      <td>12.0</td>\n",
       "      <td>70</td>\n",
       "      <td>US</td>\n",
       "      <td>0</td>\n",
       "    </tr>\n",
       "    <tr>\n",
       "      <th>2</th>\n",
       "      <td>Buick Skylark 320</td>\n",
       "      <td>15.0</td>\n",
       "      <td>8</td>\n",
       "      <td>350.0</td>\n",
       "      <td>165.0</td>\n",
       "      <td>3693.</td>\n",
       "      <td>11.5</td>\n",
       "      <td>70</td>\n",
       "      <td>US</td>\n",
       "      <td>0</td>\n",
       "    </tr>\n",
       "    <tr>\n",
       "      <th>3</th>\n",
       "      <td>Plymouth Satellite</td>\n",
       "      <td>18.0</td>\n",
       "      <td>8</td>\n",
       "      <td>318.0</td>\n",
       "      <td>150.0</td>\n",
       "      <td>3436.</td>\n",
       "      <td>11.0</td>\n",
       "      <td>70</td>\n",
       "      <td>US</td>\n",
       "      <td>0</td>\n",
       "    </tr>\n",
       "    <tr>\n",
       "      <th>4</th>\n",
       "      <td>AMC Rebel SST</td>\n",
       "      <td>16.0</td>\n",
       "      <td>8</td>\n",
       "      <td>304.0</td>\n",
       "      <td>150.0</td>\n",
       "      <td>3433.</td>\n",
       "      <td>12.0</td>\n",
       "      <td>70</td>\n",
       "      <td>US</td>\n",
       "      <td>0</td>\n",
       "    </tr>\n",
       "    <tr>\n",
       "      <th>5</th>\n",
       "      <td>Ford Torino</td>\n",
       "      <td>17.0</td>\n",
       "      <td>8</td>\n",
       "      <td>302.0</td>\n",
       "      <td>140.0</td>\n",
       "      <td>3449.</td>\n",
       "      <td>10.5</td>\n",
       "      <td>70</td>\n",
       "      <td>US</td>\n",
       "      <td>0</td>\n",
       "    </tr>\n",
       "    <tr>\n",
       "      <th>6</th>\n",
       "      <td>Ford Galaxie 500</td>\n",
       "      <td>15.0</td>\n",
       "      <td>8</td>\n",
       "      <td>429.0</td>\n",
       "      <td>198.0</td>\n",
       "      <td>4341.</td>\n",
       "      <td>10.0</td>\n",
       "      <td>70</td>\n",
       "      <td>US</td>\n",
       "      <td>1</td>\n",
       "    </tr>\n",
       "    <tr>\n",
       "      <th>7</th>\n",
       "      <td>Chevrolet Impala</td>\n",
       "      <td>14.0</td>\n",
       "      <td>8</td>\n",
       "      <td>454.0</td>\n",
       "      <td>220.0</td>\n",
       "      <td>4354.</td>\n",
       "      <td>9.0</td>\n",
       "      <td>70</td>\n",
       "      <td>US</td>\n",
       "      <td>1</td>\n",
       "    </tr>\n",
       "    <tr>\n",
       "      <th>8</th>\n",
       "      <td>Plymouth Fury iii</td>\n",
       "      <td>14.0</td>\n",
       "      <td>8</td>\n",
       "      <td>440.0</td>\n",
       "      <td>215.0</td>\n",
       "      <td>4312.</td>\n",
       "      <td>8.5</td>\n",
       "      <td>70</td>\n",
       "      <td>US</td>\n",
       "      <td>1</td>\n",
       "    </tr>\n",
       "    <tr>\n",
       "      <th>9</th>\n",
       "      <td>Pontiac Catalina</td>\n",
       "      <td>14.0</td>\n",
       "      <td>8</td>\n",
       "      <td>455.0</td>\n",
       "      <td>225.0</td>\n",
       "      <td>4425.</td>\n",
       "      <td>10.0</td>\n",
       "      <td>70</td>\n",
       "      <td>US</td>\n",
       "      <td>1</td>\n",
       "    </tr>\n",
       "    <tr>\n",
       "      <th>10</th>\n",
       "      <td>AMC Ambassador DPL</td>\n",
       "      <td>15.0</td>\n",
       "      <td>8</td>\n",
       "      <td>390.0</td>\n",
       "      <td>190.0</td>\n",
       "      <td>3850.</td>\n",
       "      <td>8.5</td>\n",
       "      <td>70</td>\n",
       "      <td>US</td>\n",
       "      <td>0</td>\n",
       "    </tr>\n",
       "  </tbody>\n",
       "</table>\n",
       "</div>"
      ],
      "text/plain": [
       "                          Car     MPG Cylinders Displacement Horsepower  \\\n",
       "0                      STRING  DOUBLE       INT       DOUBLE     DOUBLE   \n",
       "1   Chevrolet Chevelle Malibu    18.0         8        307.0      130.0   \n",
       "2           Buick Skylark 320    15.0         8        350.0      165.0   \n",
       "3          Plymouth Satellite    18.0         8        318.0      150.0   \n",
       "4               AMC Rebel SST    16.0         8        304.0      150.0   \n",
       "5                 Ford Torino    17.0         8        302.0      140.0   \n",
       "6            Ford Galaxie 500    15.0         8        429.0      198.0   \n",
       "7            Chevrolet Impala    14.0         8        454.0      220.0   \n",
       "8           Plymouth Fury iii    14.0         8        440.0      215.0   \n",
       "9            Pontiac Catalina    14.0         8        455.0      225.0   \n",
       "10         AMC Ambassador DPL    15.0         8        390.0      190.0   \n",
       "\n",
       "    Weight Acceleration Model Origin    Buy  \n",
       "0   DOUBLE       DOUBLE   INT    CAT  FLOAT  \n",
       "1    3504.         12.0    70     US      0  \n",
       "2    3693.         11.5    70     US      0  \n",
       "3    3436.         11.0    70     US      0  \n",
       "4    3433.         12.0    70     US      0  \n",
       "5    3449.         10.5    70     US      0  \n",
       "6    4341.         10.0    70     US      1  \n",
       "7    4354.          9.0    70     US      1  \n",
       "8    4312.          8.5    70     US      1  \n",
       "9    4425.         10.0    70     US      1  \n",
       "10   3850.          8.5    70     US      0  "
      ]
     },
     "execution_count": 3,
     "metadata": {},
     "output_type": "execute_result"
    }
   ],
   "source": [
    "buy = ['FLOAT', 0, 0, 0, 0, 0, 1, 1, 1, 1, 0]\n",
    "df['Buy']=buy\n",
    "df"
   ]
  },
  {
   "cell_type": "code",
   "execution_count": 4,
   "metadata": {},
   "outputs": [
    {
     "data": {
      "text/plain": [
       "array([['18.0', '8', '307.0', '130.0', '3504.', '12.0'],\n",
       "       ['15.0', '8', '350.0', '165.0', '3693.', '11.5'],\n",
       "       ['18.0', '8', '318.0', '150.0', '3436.', '11.0'],\n",
       "       ['16.0', '8', '304.0', '150.0', '3433.', '12.0'],\n",
       "       ['17.0', '8', '302.0', '140.0', '3449.', '10.5'],\n",
       "       ['15.0', '8', '429.0', '198.0', '4341.', '10.0'],\n",
       "       ['14.0', '8', '454.0', '220.0', '4354.', '9.0'],\n",
       "       ['14.0', '8', '440.0', '215.0', '4312.', '8.5'],\n",
       "       ['14.0', '8', '455.0', '225.0', '4425.', '10.0'],\n",
       "       ['15.0', '8', '390.0', '190.0', '3850.', '8.5']], dtype=object)"
      ]
     },
     "execution_count": 4,
     "metadata": {},
     "output_type": "execute_result"
    }
   ],
   "source": [
    "independent=df.iloc[1:,1:7].values\n",
    "independent"
   ]
  },
  {
   "cell_type": "code",
   "execution_count": 5,
   "metadata": {},
   "outputs": [
    {
     "data": {
      "text/plain": [
       "array([[0],\n",
       "       [0],\n",
       "       [0],\n",
       "       [0],\n",
       "       [0],\n",
       "       [1],\n",
       "       [1],\n",
       "       [1],\n",
       "       [1],\n",
       "       [0]], dtype=object)"
      ]
     },
     "execution_count": 5,
     "metadata": {},
     "output_type": "execute_result"
    }
   ],
   "source": [
    "dependent = df.iloc[1:, 9:].values\n",
    "dependent"
   ]
  },
  {
   "cell_type": "code",
   "execution_count": 6,
   "metadata": {},
   "outputs": [],
   "source": [
    "from sklearn.model_selection import train_test_split\n",
    "\n",
    "x_train,x_test,y_train,y_test = train_test_split(independent,dependent,test_size=0.2,random_state=0)"
   ]
  },
  {
   "cell_type": "markdown",
   "metadata": {},
   "source": [
    "### Standard Scaler"
   ]
  },
  {
   "cell_type": "code",
   "execution_count": 7,
   "metadata": {},
   "outputs": [
    {
     "data": {
      "text/plain": [
       "array([[ 1.13389342,  0.        , -1.15956196, -1.11457245, -1.08595059,\n",
       "         0.1796053 ],\n",
       "       [-0.37796447,  0.        ,  0.29817307,  0.43344484, -0.04416545,\n",
       "        -1.25723711],\n",
       "       [-0.37796447,  0.        , -0.36443376, -0.3405638 , -0.45204642,\n",
       "         0.89802651],\n",
       "       [-1.13389342,  0.        ,  1.35834401,  1.36225522,  1.26521037,\n",
       "        -0.89802651],\n",
       "       [-1.13389342,  0.        ,  1.12643162,  1.20745349,  1.15609572,\n",
       "        -1.25723711],\n",
       "       [ 0.37796447,  0.        , -1.12643162, -0.80496899, -1.12751807,\n",
       "         1.25723711],\n",
       "       [ 1.88982237,  0.        , -1.0767361 , -1.42417591, -0.94306235,\n",
       "         1.25723711],\n",
       "       [-0.37796447,  0.        ,  0.94421474,  0.68112761,  1.23143679,\n",
       "        -0.1796053 ]])"
      ]
     },
     "execution_count": 7,
     "metadata": {},
     "output_type": "execute_result"
    }
   ],
   "source": [
    "from sklearn.preprocessing import StandardScaler\n",
    "stndrd = StandardScaler()\n",
    "x_train = stndrd.fit_transform(x_train)\n",
    "x_train"
   ]
  },
  {
   "cell_type": "code",
   "execution_count": 8,
   "metadata": {},
   "outputs": [
    {
     "data": {
      "text/plain": [
       "array([[ 1.88982237,  0.        , -0.89451922, -0.80496899, -1.11972417,\n",
       "         0.53881591],\n",
       "       [-1.13389342,  0.        ,  1.37490918,  1.51705695,  1.44966609,\n",
       "        -0.1796053 ]])"
      ]
     },
     "execution_count": 8,
     "metadata": {},
     "output_type": "execute_result"
    }
   ],
   "source": [
    "x_test = stndrd.transform(x_test)\n",
    "x_test"
   ]
  },
  {
   "cell_type": "markdown",
   "metadata": {},
   "source": [
    "### MaxAbsScaler\n",
    "\n",
    "Scale each feature by its maximum absolute value"
   ]
  },
  {
   "cell_type": "code",
   "execution_count": 9,
   "metadata": {},
   "outputs": [
    {
     "data": {
      "text/plain": [
       "array([[ 0.6       ,  0.        , -0.85365854, -0.7826087 , -0.85831622,\n",
       "         0.14285714],\n",
       "       [-0.2       ,  0.        ,  0.2195122 ,  0.30434783, -0.0349076 ,\n",
       "        -1.        ],\n",
       "       [-0.2       ,  0.        , -0.26829268, -0.23913043, -0.35728953,\n",
       "         0.71428571],\n",
       "       [-0.6       ,  0.        ,  1.        ,  0.95652174,  1.        ,\n",
       "        -0.71428571],\n",
       "       [-0.6       ,  0.        ,  0.82926829,  0.84782609,  0.9137577 ,\n",
       "        -1.        ],\n",
       "       [ 0.2       ,  0.        , -0.82926829, -0.56521739, -0.89117043,\n",
       "         1.        ],\n",
       "       [ 1.        ,  0.        , -0.79268293, -1.        , -0.74537988,\n",
       "         1.        ],\n",
       "       [-0.2       ,  0.        ,  0.69512195,  0.47826087,  0.97330595,\n",
       "        -0.14285714]])"
      ]
     },
     "execution_count": 9,
     "metadata": {},
     "output_type": "execute_result"
    }
   ],
   "source": [
    "from sklearn.preprocessing import MaxAbsScaler\n",
    "mxabs = MaxAbsScaler()\n",
    "x_train = mxabs.fit_transform(x_train)\n",
    "x_train"
   ]
  },
  {
   "cell_type": "code",
   "execution_count": 10,
   "metadata": {},
   "outputs": [
    {
     "data": {
      "text/plain": [
       "array([[ 1.        ,  0.        , -0.65853659, -0.56521739, -0.88501027,\n",
       "         0.42857143],\n",
       "       [-0.6       ,  0.        ,  1.01219512,  1.06521739,  1.14579055,\n",
       "        -0.14285714]])"
      ]
     },
     "execution_count": 10,
     "metadata": {},
     "output_type": "execute_result"
    }
   ],
   "source": [
    "x_test = mxabs.transform(x_test)\n",
    "x_test"
   ]
  },
  {
   "cell_type": "markdown",
   "metadata": {},
   "source": [
    "### MinMaxScaler\n",
    "\n",
    "Transform features by scaling each feature to a given range"
   ]
  },
  {
   "cell_type": "code",
   "execution_count": 11,
   "metadata": {},
   "outputs": [
    {
     "data": {
      "text/plain": [
       "array([[0.75      , 0.        , 0.        , 0.11111111, 0.01737242,\n",
       "        0.57142857],\n",
       "       [0.25      , 0.        , 0.57894737, 0.66666667, 0.45276873,\n",
       "        0.        ],\n",
       "       [0.25      , 0.        , 0.31578947, 0.38888889, 0.28230185,\n",
       "        0.85714286],\n",
       "       [0.        , 0.        , 1.        , 1.        , 1.        ,\n",
       "        0.14285714],\n",
       "       [0.        , 0.        , 0.90789474, 0.94444444, 0.95439739,\n",
       "        0.        ],\n",
       "       [0.5       , 0.        , 0.01315789, 0.22222222, 0.        ,\n",
       "        1.        ],\n",
       "       [1.        , 0.        , 0.03289474, 0.        , 0.07709012,\n",
       "        1.        ],\n",
       "       [0.25      , 0.        , 0.83552632, 0.75555556, 0.98588491,\n",
       "        0.42857143]])"
      ]
     },
     "execution_count": 11,
     "metadata": {},
     "output_type": "execute_result"
    }
   ],
   "source": [
    "from sklearn.preprocessing import MinMaxScaler\n",
    "minmax = MinMaxScaler()\n",
    "x_train = minmax.fit_transform(x_train)\n",
    "x_train"
   ]
  },
  {
   "cell_type": "code",
   "execution_count": 12,
   "metadata": {},
   "outputs": [
    {
     "data": {
      "text/plain": [
       "array([[1.        , 0.        , 0.10526316, 0.22222222, 0.00325733,\n",
       "        0.71428571],\n",
       "       [0.        , 0.        , 1.00657895, 1.05555556, 1.07709012,\n",
       "        0.42857143]])"
      ]
     },
     "execution_count": 12,
     "metadata": {},
     "output_type": "execute_result"
    }
   ],
   "source": [
    "x_test = minmax.transform(x_test)\n",
    "x_test"
   ]
  },
  {
   "cell_type": "markdown",
   "metadata": {},
   "source": [
    "### Robust Scaler\n",
    "\n",
    "Scale features using statistics that are robust to outliers"
   ]
  },
  {
   "cell_type": "code",
   "execution_count": 13,
   "metadata": {},
   "outputs": [
    {
     "data": {
      "text/plain": [
       "array([[ 1.33333333,  0.        , -0.54183267, -0.68493151, -0.38902292,\n",
       "         0.09090909],\n",
       "       [ 0.        ,  0.        ,  0.15936255,  0.2283105 ,  0.0946924 ,\n",
       "        -0.63636364],\n",
       "       [ 0.        ,  0.        , -0.15936255, -0.2283105 , -0.0946924 ,\n",
       "         0.45454545],\n",
       "       [-0.66666667,  0.        ,  0.66932271,  0.77625571,  0.7026538 ,\n",
       "        -0.45454545],\n",
       "       [-0.66666667,  0.        ,  0.55776892,  0.68493151,  0.65199035,\n",
       "        -0.63636364],\n",
       "       [ 0.66666667,  0.        , -0.52589641, -0.50228311, -0.40832328,\n",
       "         0.63636364],\n",
       "       [ 2.        ,  0.        , -0.50199203, -0.86757991, -0.32267793,\n",
       "         0.63636364],\n",
       "       [ 0.        ,  0.        ,  0.47011952,  0.37442922,  0.68697226,\n",
       "        -0.09090909]])"
      ]
     },
     "execution_count": 13,
     "metadata": {},
     "output_type": "execute_result"
    }
   ],
   "source": [
    "from sklearn.preprocessing import RobustScaler\n",
    "rbst = RobustScaler()\n",
    "x_train = rbst.fit_transform(x_train)\n",
    "x_train"
   ]
  },
  {
   "cell_type": "code",
   "execution_count": 14,
   "metadata": {},
   "outputs": [
    {
     "data": {
      "text/plain": [
       "array([[ 2.        ,  0.        , -0.41434263, -0.50228311, -0.40470446,\n",
       "         0.27272727],\n",
       "       [-0.66666667,  0.        ,  0.67729084,  0.86757991,  0.78829916,\n",
       "        -0.09090909]])"
      ]
     },
     "execution_count": 14,
     "metadata": {},
     "output_type": "execute_result"
    }
   ],
   "source": [
    "x_test = rbst.transform(x_test)\n",
    "x_test"
   ]
  }
 ],
 "metadata": {
  "kernelspec": {
   "display_name": "Python 3.10.5 64-bit",
   "language": "python",
   "name": "python3"
  },
  "language_info": {
   "codemirror_mode": {
    "name": "ipython",
    "version": 3
   },
   "file_extension": ".py",
   "mimetype": "text/x-python",
   "name": "python",
   "nbconvert_exporter": "python",
   "pygments_lexer": "ipython3",
   "version": "3.10.5"
  },
  "orig_nbformat": 4,
  "vscode": {
   "interpreter": {
    "hash": "e7370f93d1d0cde622a1f8e1c04877d8463912d04d973331ad4851f04de6915a"
   }
  }
 },
 "nbformat": 4,
 "nbformat_minor": 2
}
