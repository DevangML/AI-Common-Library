{
 "cells": [
  {
   "cell_type": "markdown",
   "metadata": {},
   "source": [
    "# Multilayer Perceptron\n",
    "\n",
    "### For recognizing digits in image"
   ]
  },
  {
   "cell_type": "code",
   "execution_count": 3,
   "metadata": {},
   "outputs": [],
   "source": [
    "import numpy as np"
   ]
  },
  {
   "cell_type": "code",
   "execution_count": 4,
   "metadata": {},
   "outputs": [
    {
     "name": "stdout",
     "output_type": "stream",
     "text": [
      "[0.00237792 0.95932017 0.00646385 0.00237792 0.00237792 0.00237792\n",
      " 0.00237792 0.01757056 0.00237792 0.00237792]\n"
     ]
    }
   ],
   "source": [
    "def softmax(x):\n",
    "  return np.exp(x) / np.sum(np.exp(x), axis = 0)\n",
    "scores = [1, 7, 2, 1, 1, 1, 1, 3, 1, 1]\n",
    "print(softmax(scores))"
   ]
  },
  {
   "cell_type": "code",
   "execution_count": 6,
   "metadata": {},
   "outputs": [],
   "source": [
    "from __future__ import absolute_import, division, print_function, unicode_literals\n",
    "\n",
    "try:\n",
    "  %tensorflow_version 2.x\n",
    "except Exception:\n",
    "  pass\n",
    "\n",
    "import tensorflow as tf\n",
    "tf.random.set_seed(1)"
   ]
  },
  {
   "cell_type": "code",
   "execution_count": 7,
   "metadata": {},
   "outputs": [],
   "source": [
    "from tensorflow.keras.models import Sequential\n",
    "from tensorflow.keras.layers import Flatten\n",
    "from tensorflow.keras.layers import Dense\n",
    "from tensorflow.keras.layers import Activation"
   ]
  },
  {
   "cell_type": "code",
   "execution_count": 8,
   "metadata": {},
   "outputs": [
    {
     "name": "stdout",
     "output_type": "stream",
     "text": [
      "Downloading data from https://storage.googleapis.com/tensorflow/tf-keras-datasets/mnist.npz\n",
      "11490434/11490434 [==============================] - 28s 2us/step\n"
     ]
    }
   ],
   "source": [
    "(x_train, y_train), (x_test, y_test) = tf.keras.datasets.mnist.load_data()"
   ]
  },
  {
   "cell_type": "code",
   "execution_count": 9,
   "metadata": {},
   "outputs": [],
   "source": [
    "x_train = x_train.astype('float32')\n",
    "x_test = x_test.astype('float32')\n",
    "\n",
    "gray_scale = 255\n",
    "\n",
    "x_train /= gray_scale\n",
    "x_test /= gray_scale"
   ]
  },
  {
   "cell_type": "markdown",
   "metadata": {},
   "source": [
    "### MLP Model for classification"
   ]
  },
  {
   "cell_type": "code",
   "execution_count": 11,
   "metadata": {},
   "outputs": [
    {
     "name": "stderr",
     "output_type": "stream",
     "text": [
      "2022-07-28 14:38:58.033951: W tensorflow/stream_executor/platform/default/dso_loader.cc:64] Could not load dynamic library 'libcuda.so.1'; dlerror: libcuda.so.1: cannot open shared object file: No such file or directory\n",
      "2022-07-28 14:38:58.033982: W tensorflow/stream_executor/cuda/cuda_driver.cc:269] failed call to cuInit: UNKNOWN ERROR (303)\n",
      "2022-07-28 14:38:58.034014: I tensorflow/stream_executor/cuda/cuda_diagnostics.cc:156] kernel driver does not appear to be running on this host (fedora): /proc/driver/nvidia/version does not exist\n",
      "2022-07-28 14:38:58.180120: I tensorflow/core/platform/cpu_feature_guard.cc:193] This TensorFlow binary is optimized with oneAPI Deep Neural Network Library (oneDNN) to use the following CPU instructions in performance-critical operations:  AVX2 FMA\n",
      "To enable them in other operations, rebuild TensorFlow with the appropriate compiler flags.\n"
     ]
    }
   ],
   "source": [
    "model = Sequential([\n",
    "  Flatten(input_shape=(28, 28)), # reshape 28 row * 28 column data to 28*28 rows\n",
    "  Dense(256, activation='sigmoid'),\n",
    "  Dense(256, activation='sigmoid'),\n",
    "  Dense(10, activation='softmax'),\n",
    "  ])"
   ]
  },
  {
   "cell_type": "code",
   "execution_count": 12,
   "metadata": {},
   "outputs": [],
   "source": [
    "model.compile(optimizer='adam', loss='sparse_categorical_crossentropy', metrics=['accuracy'])"
   ]
  },
  {
   "cell_type": "code",
   "execution_count": 13,
   "metadata": {},
   "outputs": [
    {
     "name": "stderr",
     "output_type": "stream",
     "text": [
      "2022-07-28 14:41:03.996782: W tensorflow/core/framework/cpu_allocator_impl.cc:82] Allocation of 150528000 exceeds 10% of free system memory.\n"
     ]
    },
    {
     "name": "stdout",
     "output_type": "stream",
     "text": [
      "Epoch 1/10\n",
      "23/24 [===========================>..] - ETA: 0s - loss: 2.0878 - accuracy: 0.3630"
     ]
    },
    {
     "name": "stderr",
     "output_type": "stream",
     "text": [
      "2022-07-28 14:41:10.382518: W tensorflow/core/framework/cpu_allocator_impl.cc:82] Allocation of 37632000 exceeds 10% of free system memory.\n"
     ]
    },
    {
     "name": "stdout",
     "output_type": "stream",
     "text": [
      "24/24 [==============================] - 4s 62ms/step - loss: 2.0724 - accuracy: 0.3748 - val_loss: 1.6688 - val_accuracy: 0.6890\n",
      "Epoch 2/10\n",
      "24/24 [==============================] - 1s 44ms/step - loss: 1.2878 - accuracy: 0.7372 - val_loss: 0.9074 - val_accuracy: 0.8247\n",
      "Epoch 3/10\n",
      "24/24 [==============================] - 1s 40ms/step - loss: 0.7441 - accuracy: 0.8306 - val_loss: 0.5620 - val_accuracy: 0.8727\n",
      "Epoch 4/10\n",
      "24/24 [==============================] - 1s 51ms/step - loss: 0.5122 - accuracy: 0.8750 - val_loss: 0.4208 - val_accuracy: 0.8966\n",
      "Epoch 5/10\n",
      "24/24 [==============================] - 1s 54ms/step - loss: 0.4097 - accuracy: 0.8933 - val_loss: 0.3561 - val_accuracy: 0.9059\n",
      "Epoch 6/10\n",
      "24/24 [==============================] - 1s 51ms/step - loss: 0.3571 - accuracy: 0.9031 - val_loss: 0.3190 - val_accuracy: 0.9125\n",
      "Epoch 7/10\n",
      "24/24 [==============================] - 1s 40ms/step - loss: 0.3241 - accuracy: 0.9102 - val_loss: 0.2942 - val_accuracy: 0.9182\n",
      "Epoch 8/10\n",
      "24/24 [==============================] - 1s 39ms/step - loss: 0.2996 - accuracy: 0.9161 - val_loss: 0.2751 - val_accuracy: 0.9234\n",
      "Epoch 9/10\n",
      "24/24 [==============================] - 1s 44ms/step - loss: 0.2809 - accuracy: 0.9208 - val_loss: 0.2600 - val_accuracy: 0.9273\n",
      "Epoch 10/10\n",
      "24/24 [==============================] - 1s 46ms/step - loss: 0.2645 - accuracy: 0.9248 - val_loss: 0.2472 - val_accuracy: 0.9310\n"
     ]
    },
    {
     "data": {
      "text/plain": [
       "<keras.callbacks.History at 0x7f1d99388220>"
      ]
     },
     "execution_count": 13,
     "metadata": {},
     "output_type": "execute_result"
    }
   ],
   "source": [
    "model.fit(x_train, y_train, epochs=10, batch_size=2000, validation_split=0.2)"
   ]
  },
  {
   "cell_type": "code",
   "execution_count": 14,
   "metadata": {},
   "outputs": [],
   "source": [
    "results = model.evaluate(x_test, y_test, verbose = 0)"
   ]
  },
  {
   "cell_type": "code",
   "execution_count": 15,
   "metadata": {},
   "outputs": [
    {
     "name": "stdout",
     "output_type": "stream",
     "text": [
      "test loss, test acc: [0.2545037567615509, 0.9269999861717224]\n"
     ]
    }
   ],
   "source": [
    "print('test loss, test acc:', results)"
   ]
  }
 ],
 "metadata": {
  "kernelspec": {
   "display_name": "Python 3.10.5 64-bit",
   "language": "python",
   "name": "python3"
  },
  "language_info": {
   "codemirror_mode": {
    "name": "ipython",
    "version": 3
   },
   "file_extension": ".py",
   "mimetype": "text/x-python",
   "name": "python",
   "nbconvert_exporter": "python",
   "pygments_lexer": "ipython3",
   "version": "3.10.5"
  },
  "orig_nbformat": 4,
  "vscode": {
   "interpreter": {
    "hash": "e7370f93d1d0cde622a1f8e1c04877d8463912d04d973331ad4851f04de6915a"
   }
  }
 },
 "nbformat": 4,
 "nbformat_minor": 2
}
