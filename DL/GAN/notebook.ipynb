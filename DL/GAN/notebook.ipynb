{
 "cells": [
  {
   "cell_type": "markdown",
   "metadata": {},
   "source": [
    "## Simple GAN"
   ]
  },
  {
   "cell_type": "markdown",
   "metadata": {},
   "source": [
    "### Defining Discriminator"
   ]
  },
  {
   "cell_type": "code",
   "execution_count": 17,
   "metadata": {},
   "outputs": [],
   "source": [
    "from keras import Sequential\n",
    "from tensorflow.keras.layers import Conv2D, LeakyReLU, Dropout, Flatten, Dense, Activation, BatchNormalization, Reshape, UpSampling2D, Conv2DTranspose\n",
    "from keras.optimizers import RMSprop\n",
    "import numpy as np"
   ]
  },
  {
   "cell_type": "code",
   "execution_count": 21,
   "metadata": {},
   "outputs": [
    {
     "ename": "AttributeError",
     "evalue": "'GAN' object has no attribute 'img_rows'",
     "output_type": "error",
     "traceback": [
      "\u001b[0;31m---------------------------------------------------------------------------\u001b[0m",
      "\u001b[0;31mAttributeError\u001b[0m                            Traceback (most recent call last)",
      "\u001b[1;32m/home/devangm/Desktop/Some-Rare-Machine-Learning-Concepts/DL/GAN/notebook.ipynb Cell 4\u001b[0m in \u001b[0;36m<cell line: 81>\u001b[0;34m()\u001b[0m\n\u001b[1;32m     <a href='vscode-notebook-cell:/home/devangm/Desktop/Some-Rare-Machine-Learning-Concepts/DL/GAN/notebook.ipynb#ch0000006?line=78'>79</a>\u001b[0m     noise \u001b[39m=\u001b[39m np\u001b[39m.\u001b[39mrandom\u001b[39m.\u001b[39muniform(\u001b[39m-\u001b[39m\u001b[39m1.0\u001b[39m, \u001b[39m1.0\u001b[39m, size\u001b[39m=\u001b[39m[batch_size, \u001b[39m100\u001b[39m])\n\u001b[1;32m     <a href='vscode-notebook-cell:/home/devangm/Desktop/Some-Rare-Machine-Learning-Concepts/DL/GAN/notebook.ipynb#ch0000006?line=79'>80</a>\u001b[0m     a_loss \u001b[39m=\u001b[39m \u001b[39mself\u001b[39m\u001b[39m.\u001b[39madversarial\u001b[39m.\u001b[39mtrain_on_batch(noise, y)\n\u001b[0;32m---> <a href='vscode-notebook-cell:/home/devangm/Desktop/Some-Rare-Machine-Learning-Concepts/DL/GAN/notebook.ipynb#ch0000006?line=80'>81</a>\u001b[0m gan \u001b[39m=\u001b[39m GAN(\u001b[39m32\u001b[39;49m)\n",
      "\u001b[1;32m/home/devangm/Desktop/Some-Rare-Machine-Learning-Concepts/DL/GAN/notebook.ipynb Cell 4\u001b[0m in \u001b[0;36mGAN.__init__\u001b[0;34m(self, batch_size)\u001b[0m\n\u001b[1;32m      <a href='vscode-notebook-cell:/home/devangm/Desktop/Some-Rare-Machine-Learning-Concepts/DL/GAN/notebook.ipynb#ch0000006?line=4'>5</a>\u001b[0m dropout \u001b[39m=\u001b[39m \u001b[39m0.4\u001b[39m\n\u001b[1;32m      <a href='vscode-notebook-cell:/home/devangm/Desktop/Some-Rare-Machine-Learning-Concepts/DL/GAN/notebook.ipynb#ch0000006?line=5'>6</a>\u001b[0m \u001b[39m# In: 28 x 28 x 1, depth = 1\u001b[39;00m\n\u001b[1;32m      <a href='vscode-notebook-cell:/home/devangm/Desktop/Some-Rare-Machine-Learning-Concepts/DL/GAN/notebook.ipynb#ch0000006?line=6'>7</a>\u001b[0m \u001b[39m# Out: 14 x 14 x 1, depth=64\u001b[39;00m\n\u001b[0;32m----> <a href='vscode-notebook-cell:/home/devangm/Desktop/Some-Rare-Machine-Learning-Concepts/DL/GAN/notebook.ipynb#ch0000006?line=7'>8</a>\u001b[0m input_shape \u001b[39m=\u001b[39m (\u001b[39mself\u001b[39;49m\u001b[39m.\u001b[39;49mimg_rows, \u001b[39mself\u001b[39m\u001b[39m.\u001b[39mimg_cols, \u001b[39mself\u001b[39m\u001b[39m.\u001b[39mchannel)\n\u001b[1;32m      <a href='vscode-notebook-cell:/home/devangm/Desktop/Some-Rare-Machine-Learning-Concepts/DL/GAN/notebook.ipynb#ch0000006?line=8'>9</a>\u001b[0m \u001b[39mself\u001b[39m\u001b[39m.\u001b[39mD\u001b[39m.\u001b[39madd(Conv2D(depth\u001b[39m*\u001b[39m\u001b[39m1\u001b[39m, \u001b[39m5\u001b[39m, strides\u001b[39m=\u001b[39m\u001b[39m2\u001b[39m, input_shape\u001b[39m=\u001b[39minput_shape,\\\n\u001b[1;32m     <a href='vscode-notebook-cell:/home/devangm/Desktop/Some-Rare-Machine-Learning-Concepts/DL/GAN/notebook.ipynb#ch0000006?line=9'>10</a>\u001b[0m padding\u001b[39m=\u001b[39m\u001b[39m'\u001b[39m\u001b[39msame\u001b[39m\u001b[39m'\u001b[39m, activation\u001b[39m=\u001b[39mLeakyReLU(alpha\u001b[39m=\u001b[39m\u001b[39m0.2\u001b[39m)))\n\u001b[1;32m     <a href='vscode-notebook-cell:/home/devangm/Desktop/Some-Rare-Machine-Learning-Concepts/DL/GAN/notebook.ipynb#ch0000006?line=10'>11</a>\u001b[0m \u001b[39mself\u001b[39m\u001b[39m.\u001b[39mD\u001b[39m.\u001b[39madd(Dropout(dropout))\n",
      "\u001b[0;31mAttributeError\u001b[0m: 'GAN' object has no attribute 'img_rows'"
     ]
    }
   ],
   "source": [
    "class GAN():\n",
    "  def __init__(self, batch_size):\n",
    "    self.D = Sequential()\n",
    "    depth = 64\n",
    "    dropout = 0.4\n",
    "    # In: 28 x 28 x 1, depth = 1\n",
    "    # Out: 14 x 14 x 1, depth=64\n",
    "    input_shape = (self.img_rows, self.img_cols, self.channel)\n",
    "    self.D.add(Conv2D(depth*1, 5, strides=2, input_shape=input_shape,\\\n",
    "    padding='same', activation=LeakyReLU(alpha=0.2)))\n",
    "    self.D.add(Dropout(dropout))\n",
    "    self.D.add(Conv2D(depth*2, 5, strides=2, padding='same',\\\n",
    "    activation=LeakyReLU(alpha=0.2)))\n",
    "    self.D.add(Dropout(dropout))\n",
    "    self.D.add(Conv2D(depth*4, 5, strides=2, padding='same',\\\n",
    "    activation=LeakyReLU(alpha=0.2)))\n",
    "    self.D.add(Dropout(dropout))\n",
    "    self.D.add(Conv2D(depth*8, 5, strides=1, padding='same',\\\n",
    "    activation=LeakyReLU(alpha=0.2)))\n",
    "    self.D.add(Dropout(dropout))\n",
    "    # Out: 1-dim probability\n",
    "    self.D.add(Flatten())\n",
    "    self.D.add(Dense(1))\n",
    "    self.D.add(Activation('sigmoid'))\n",
    "    self.D.summary()\n",
    "\n",
    "    self.G = Sequential()\n",
    "    dropout = 0.4\n",
    "    depth = 64+64+64+64\n",
    "    dim = 7\n",
    "    # In: 100\n",
    "    # Out: dim x dim x depth\n",
    "    self.G.add(Dense(dim*dim*depth, input_dim=100))\n",
    "    self.G.add(BatchNormalization(momentum=0.9))\n",
    "    self.G.add(Activation('relu'))\n",
    "    self.G.add(Reshape((dim, dim, depth)))\n",
    "    self.G.add(Dropout(dropout))\n",
    "    # In: dim x dim x depth\n",
    "    # Out: 2*dim x 2*dim x depth/2\n",
    "    self.G.add(UpSampling2D())\n",
    "    self.G.add(Conv2DTranspose(int(depth/2), 5, padding='same'))\n",
    "    self.G.add(BatchNormalization(momentum=0.9))\n",
    "    self.G.add(Activation('relu'))\n",
    "    self.G.add(UpSampling2D())\n",
    "    self.G.add(Conv2DTranspose(int(depth/4), 5, padding='same'))\n",
    "    self.G.add(BatchNormalization(momentum=0.9))\n",
    "    self.G.add(Activation('relu'))\n",
    "    self.G.add(Conv2DTranspose(int(depth/8), 5, padding='same'))\n",
    "    self.G.add(BatchNormalization(momentum=0.9))\n",
    "    self.G.add(Activation('relu'))\n",
    "    # Out: 28 x 28 x 1 grayscale image [0.0,1.0] per pix\n",
    "    self.G.add(Conv2DTranspose(1, 5, padding='same'))\n",
    "    self.G.add(Activation('sigmoid'))\n",
    "    self.G.summary()\n",
    "\n",
    "    optimizer = RMSprop(lr=0.0008, clipvalue=1.0, decay=6e-8)\n",
    "    self.DM = Sequential()\n",
    "    self.DM.add(self.discriminator())\n",
    "    self.DM.compile(loss='binary_crossentropy', optimizer=optimizer,\\\n",
    "    metrics=['accuracy'])\n",
    "\n",
    "    optimizer = RMSprop(lr=0.0004, clipvalue=1.0, decay=3e-8)\n",
    "    self.AM = Sequential()\n",
    "    self.AM.add(self.generator())\n",
    "    self.AM.add(self.discriminator())\n",
    "    self.AM.compile(loss='binary_crossentropy', optimizer=optimizer,\\\n",
    "    metrics=['accuracy'])\n",
    "\n",
    "    self.img_rows\n",
    "\n",
    "    images_train = self.x_train[np.random.randint(0, self.x_train.shape[0], size=batch_size), :, :, :]\n",
    "    noise = np.random.uniform(-1.0, 1.0, size=[batch_size, 100])\n",
    "    images_fake = self.generator.predict(noise)\n",
    "    x = np.concatenate((images_train, images_fake))\n",
    "    y = np.ones([2*batch_size, 1])\n",
    "    y[batch_size:, :] = 0\n",
    "    d_loss = self.discriminator.train_on_batch(x, y)\n",
    "    y = np.ones([batch_size, 1])\n",
    "    noise = np.random.uniform(-1.0, 1.0, size=[batch_size, 100])\n",
    "    a_loss = self.adversarial.train_on_batch(noise, y)\n",
    "gan = GAN(32)"
   ]
  },
  {
   "cell_type": "code",
   "execution_count": 14,
   "metadata": {},
   "outputs": [
    {
     "ename": "TypeError",
     "evalue": "Discriminator() missing 1 required positional argument: 'self'",
     "output_type": "error",
     "traceback": [
      "\u001b[0;31m---------------------------------------------------------------------------\u001b[0m",
      "\u001b[0;31mTypeError\u001b[0m                                 Traceback (most recent call last)",
      "\u001b[1;32m/home/devangm/Desktop/Some-Rare-Machine-Learning-Concepts/DL/GAN/notebook.ipynb Cell 5\u001b[0m in \u001b[0;36m<cell line: 1>\u001b[0;34m()\u001b[0m\n\u001b[0;32m----> <a href='vscode-notebook-cell:/home/devangm/Desktop/Some-Rare-Machine-Learning-Concepts/DL/GAN/notebook.ipynb#ch0000008?line=0'>1</a>\u001b[0m Discriminator()\n",
      "\u001b[0;31mTypeError\u001b[0m: Discriminator() missing 1 required positional argument: 'self'"
     ]
    }
   ],
   "source": []
  }
 ],
 "metadata": {
  "kernelspec": {
   "display_name": "Python 3.10.5 64-bit",
   "language": "python",
   "name": "python3"
  },
  "language_info": {
   "codemirror_mode": {
    "name": "ipython",
    "version": 3
   },
   "file_extension": ".py",
   "mimetype": "text/x-python",
   "name": "python",
   "nbconvert_exporter": "python",
   "pygments_lexer": "ipython3",
   "version": "3.10.5"
  },
  "orig_nbformat": 4,
  "vscode": {
   "interpreter": {
    "hash": "e7370f93d1d0cde622a1f8e1c04877d8463912d04d973331ad4851f04de6915a"
   }
  }
 },
 "nbformat": 4,
 "nbformat_minor": 2
}
