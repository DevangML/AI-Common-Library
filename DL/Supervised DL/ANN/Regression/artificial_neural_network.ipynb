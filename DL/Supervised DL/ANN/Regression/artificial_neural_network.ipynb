{
  "cells": [
    {
      "cell_type": "markdown",
      "metadata": {
        "colab_type": "text",
        "id": "3cbb7fRy-eyr"
      },
      "source": [
        "# Artificial Neural Network"
      ]
    },
    {
      "cell_type": "markdown",
      "metadata": {
        "colab_type": "text",
        "id": "8sNDnxE2-pwE"
      },
      "source": [
        "### Importing the libraries"
      ]
    },
    {
      "cell_type": "code",
      "execution_count": 1,
      "metadata": {
        "colab": {},
        "colab_type": "code",
        "id": "lxChR1Rk-umf"
      },
      "outputs": [],
      "source": [
        "import numpy as np\n",
        "import pandas as pd\n",
        "import tensorflow as tf"
      ]
    },
    {
      "cell_type": "code",
      "execution_count": 2,
      "metadata": {
        "colab": {
          "base_uri": "https://localhost:8080/",
          "height": 34
        },
        "colab_type": "code",
        "id": "uBTqR3nacj0e",
        "outputId": "4c0bd183-e424-429a-9fba-ceb841c06888"
      },
      "outputs": [
        {
          "data": {
            "text/plain": [
              "'2.9.1'"
            ]
          },
          "execution_count": 2,
          "metadata": {},
          "output_type": "execute_result"
        }
      ],
      "source": [
        "tf.__version__"
      ]
    },
    {
      "cell_type": "markdown",
      "metadata": {
        "colab_type": "text",
        "id": "AG3FQEch-yuA"
      },
      "source": [
        "## Part 1 - Data Preprocessing"
      ]
    },
    {
      "cell_type": "markdown",
      "metadata": {
        "colab_type": "text",
        "id": "-4zq8Mza_D9O"
      },
      "source": [
        "### Importing the dataset"
      ]
    },
    {
      "cell_type": "code",
      "execution_count": 4,
      "metadata": {
        "colab": {},
        "colab_type": "code",
        "id": "B9CV13Co_HHM"
      },
      "outputs": [],
      "source": [
        "dataset = pd.read_excel('Folds5x2_pp.xlsx')\n",
        "X = dataset.iloc[:, :-1].values\n",
        "y = dataset.iloc[:, -1].values"
      ]
    },
    {
      "cell_type": "markdown",
      "metadata": {
        "colab_type": "text",
        "id": "VC6omXel_Up0"
      },
      "source": [
        "### Splitting the dataset into the Training set and Test set"
      ]
    },
    {
      "cell_type": "code",
      "execution_count": 5,
      "metadata": {
        "colab": {},
        "colab_type": "code",
        "id": "L5edeb2r_agx"
      },
      "outputs": [],
      "source": [
        "from sklearn.model_selection import train_test_split\n",
        "X_train, X_test, y_train, y_test = train_test_split(X, y, test_size = 0.2, random_state = 0)"
      ]
    },
    {
      "cell_type": "markdown",
      "metadata": {
        "colab_type": "text",
        "id": "_mSLlAT9_eyI"
      },
      "source": [
        "## Part 2 - Building the ANN"
      ]
    },
    {
      "cell_type": "markdown",
      "metadata": {
        "colab_type": "text",
        "id": "CsBULd_f_wLY"
      },
      "source": [
        "### Initializing the ANN"
      ]
    },
    {
      "cell_type": "code",
      "execution_count": 6,
      "metadata": {
        "colab": {},
        "colab_type": "code",
        "id": "J6Hd97Ls__Nz"
      },
      "outputs": [],
      "source": [
        "ann = tf.keras.models.Sequential()"
      ]
    },
    {
      "cell_type": "markdown",
      "metadata": {
        "colab_type": "text",
        "id": "iitAFJS_ABUn"
      },
      "source": [
        "### Adding the input layer and the first hidden layer"
      ]
    },
    {
      "cell_type": "code",
      "execution_count": 7,
      "metadata": {
        "colab": {},
        "colab_type": "code",
        "id": "ksO_Vv40AHix"
      },
      "outputs": [],
      "source": [
        "ann.add(tf.keras.layers.Dense(units=6, activation='relu'))"
      ]
    },
    {
      "cell_type": "markdown",
      "metadata": {
        "colab_type": "text",
        "id": "-lb4kK_wAKbs"
      },
      "source": [
        "### Adding the second hidden layer"
      ]
    },
    {
      "cell_type": "code",
      "execution_count": 8,
      "metadata": {
        "colab": {},
        "colab_type": "code",
        "id": "c2357OqEAQOQ"
      },
      "outputs": [],
      "source": [
        "ann.add(tf.keras.layers.Dense(units=6, activation='relu'))"
      ]
    },
    {
      "cell_type": "markdown",
      "metadata": {
        "colab_type": "text",
        "id": "jwMOmKb3AdBY"
      },
      "source": [
        "### Adding the output layer"
      ]
    },
    {
      "cell_type": "code",
      "execution_count": 9,
      "metadata": {
        "colab": {},
        "colab_type": "code",
        "id": "YFATpzsUAkLL"
      },
      "outputs": [],
      "source": [
        "ann.add(tf.keras.layers.Dense(units=1))"
      ]
    },
    {
      "cell_type": "markdown",
      "metadata": {
        "colab_type": "text",
        "id": "fq7e4fF6A1yy"
      },
      "source": [
        "## Part 3 - Training the ANN"
      ]
    },
    {
      "cell_type": "markdown",
      "metadata": {
        "colab_type": "text",
        "id": "qDeylAs2An25"
      },
      "source": [
        "### Compiling the ANN"
      ]
    },
    {
      "cell_type": "code",
      "execution_count": 10,
      "metadata": {
        "colab": {},
        "colab_type": "code",
        "id": "pesgbWlCAtB4"
      },
      "outputs": [],
      "source": [
        "ann.compile(optimizer = 'adam', loss = 'mean_squared_error')"
      ]
    },
    {
      "cell_type": "markdown",
      "metadata": {
        "colab_type": "text",
        "id": "YjVuiybYOo7r"
      },
      "source": [
        "### Training the ANN model on the Training set"
      ]
    },
    {
      "cell_type": "code",
      "execution_count": 11,
      "metadata": {
        "colab": {
          "base_uri": "https://localhost:8080/",
          "height": 1000
        },
        "colab_type": "code",
        "id": "c_vV-tiiA5zn",
        "outputId": "4a2b6ee6-ed75-4698-9069-b250e613803f"
      },
      "outputs": [
        {
          "name": "stdout",
          "output_type": "stream",
          "text": [
            "Epoch 1/100\n",
            "240/240 [==============================] - 1s 870us/step - loss: 243417.9219\n",
            "Epoch 2/100\n",
            "240/240 [==============================] - 0s 828us/step - loss: 599.7891\n",
            "Epoch 3/100\n",
            "240/240 [==============================] - 0s 854us/step - loss: 580.6238\n",
            "Epoch 4/100\n",
            "240/240 [==============================] - 0s 812us/step - loss: 563.5151\n",
            "Epoch 5/100\n",
            "240/240 [==============================] - 0s 812us/step - loss: 541.1276\n",
            "Epoch 6/100\n",
            "240/240 [==============================] - 0s 808us/step - loss: 517.9477\n",
            "Epoch 7/100\n",
            "240/240 [==============================] - 0s 824us/step - loss: 490.8747\n",
            "Epoch 8/100\n",
            "240/240 [==============================] - 0s 837us/step - loss: 463.1662\n",
            "Epoch 9/100\n",
            "240/240 [==============================] - 0s 820us/step - loss: 432.6149\n",
            "Epoch 10/100\n",
            "240/240 [==============================] - 0s 808us/step - loss: 401.3374\n",
            "Epoch 11/100\n",
            "240/240 [==============================] - 0s 803us/step - loss: 368.7845\n",
            "Epoch 12/100\n",
            "240/240 [==============================] - 0s 929us/step - loss: 336.3195\n",
            "Epoch 13/100\n",
            "240/240 [==============================] - 0s 833us/step - loss: 303.7596\n",
            "Epoch 14/100\n",
            "240/240 [==============================] - 0s 916us/step - loss: 272.5651\n",
            "Epoch 15/100\n",
            "240/240 [==============================] - 0s 845us/step - loss: 241.8025\n",
            "Epoch 16/100\n",
            "240/240 [==============================] - 0s 795us/step - loss: 212.4069\n",
            "Epoch 17/100\n",
            "240/240 [==============================] - 0s 795us/step - loss: 185.6862\n",
            "Epoch 18/100\n",
            "240/240 [==============================] - 0s 799us/step - loss: 160.8282\n",
            "Epoch 19/100\n",
            "240/240 [==============================] - 0s 816us/step - loss: 138.5252\n",
            "Epoch 20/100\n",
            "240/240 [==============================] - 0s 812us/step - loss: 118.6870\n",
            "Epoch 21/100\n",
            "240/240 [==============================] - 0s 828us/step - loss: 101.9768\n",
            "Epoch 22/100\n",
            "240/240 [==============================] - 0s 824us/step - loss: 86.7415\n",
            "Epoch 23/100\n",
            "240/240 [==============================] - 0s 812us/step - loss: 73.5991\n",
            "Epoch 24/100\n",
            "240/240 [==============================] - 0s 812us/step - loss: 63.1890\n",
            "Epoch 25/100\n",
            "240/240 [==============================] - 0s 816us/step - loss: 54.2179\n",
            "Epoch 26/100\n",
            "240/240 [==============================] - 0s 808us/step - loss: 46.9947\n",
            "Epoch 27/100\n",
            "240/240 [==============================] - 0s 828us/step - loss: 40.8378\n",
            "Epoch 28/100\n",
            "240/240 [==============================] - 0s 808us/step - loss: 36.5814\n",
            "Epoch 29/100\n",
            "240/240 [==============================] - 0s 808us/step - loss: 33.0543\n",
            "Epoch 30/100\n",
            "240/240 [==============================] - 0s 808us/step - loss: 30.6487\n",
            "Epoch 31/100\n",
            "240/240 [==============================] - 0s 808us/step - loss: 28.9361\n",
            "Epoch 32/100\n",
            "240/240 [==============================] - 0s 787us/step - loss: 27.9546\n",
            "Epoch 33/100\n",
            "240/240 [==============================] - 0s 824us/step - loss: 27.3968\n",
            "Epoch 34/100\n",
            "240/240 [==============================] - 0s 841us/step - loss: 27.6730\n",
            "Epoch 35/100\n",
            "240/240 [==============================] - 0s 879us/step - loss: 27.5467\n",
            "Epoch 36/100\n",
            "240/240 [==============================] - 0s 854us/step - loss: 26.8393\n",
            "Epoch 37/100\n",
            "240/240 [==============================] - 0s 895us/step - loss: 27.0185\n",
            "Epoch 38/100\n",
            "240/240 [==============================] - 0s 925us/step - loss: 27.5975\n",
            "Epoch 39/100\n",
            "240/240 [==============================] - 0s 816us/step - loss: 27.4145\n",
            "Epoch 40/100\n",
            "240/240 [==============================] - 0s 874us/step - loss: 27.2764\n",
            "Epoch 41/100\n",
            "240/240 [==============================] - 0s 854us/step - loss: 27.2559\n",
            "Epoch 42/100\n",
            "240/240 [==============================] - 0s 799us/step - loss: 27.4255\n",
            "Epoch 43/100\n",
            "240/240 [==============================] - 0s 799us/step - loss: 27.6589\n",
            "Epoch 44/100\n",
            "240/240 [==============================] - 0s 774us/step - loss: 28.4467\n",
            "Epoch 45/100\n",
            "240/240 [==============================] - 0s 766us/step - loss: 27.0712\n",
            "Epoch 46/100\n",
            "240/240 [==============================] - 0s 770us/step - loss: 27.4761\n",
            "Epoch 47/100\n",
            "240/240 [==============================] - 0s 787us/step - loss: 27.7179\n",
            "Epoch 48/100\n",
            "240/240 [==============================] - 0s 816us/step - loss: 27.3538\n",
            "Epoch 49/100\n",
            "240/240 [==============================] - 0s 803us/step - loss: 27.9231\n",
            "Epoch 50/100\n",
            "240/240 [==============================] - 0s 774us/step - loss: 27.6282\n",
            "Epoch 51/100\n",
            "240/240 [==============================] - 0s 774us/step - loss: 27.5146\n",
            "Epoch 52/100\n",
            "240/240 [==============================] - 0s 770us/step - loss: 27.7142\n",
            "Epoch 53/100\n",
            "240/240 [==============================] - 0s 766us/step - loss: 28.0380\n",
            "Epoch 54/100\n",
            "240/240 [==============================] - 0s 774us/step - loss: 27.9661\n",
            "Epoch 55/100\n",
            "240/240 [==============================] - 0s 782us/step - loss: 27.8419\n",
            "Epoch 56/100\n",
            "240/240 [==============================] - 0s 778us/step - loss: 27.7408\n",
            "Epoch 57/100\n",
            "240/240 [==============================] - 0s 766us/step - loss: 27.9494\n",
            "Epoch 58/100\n",
            "240/240 [==============================] - 0s 774us/step - loss: 27.4015\n",
            "Epoch 59/100\n",
            "240/240 [==============================] - 0s 782us/step - loss: 28.2125\n",
            "Epoch 60/100\n",
            "240/240 [==============================] - 0s 774us/step - loss: 28.2891\n",
            "Epoch 61/100\n",
            "240/240 [==============================] - 0s 778us/step - loss: 27.6579\n",
            "Epoch 62/100\n",
            "240/240 [==============================] - 0s 778us/step - loss: 28.3139\n",
            "Epoch 63/100\n",
            "240/240 [==============================] - 0s 762us/step - loss: 27.3453\n",
            "Epoch 64/100\n",
            "240/240 [==============================] - 0s 833us/step - loss: 28.0905\n",
            "Epoch 65/100\n",
            "240/240 [==============================] - 0s 787us/step - loss: 28.2152\n",
            "Epoch 66/100\n",
            "240/240 [==============================] - 0s 778us/step - loss: 27.5146\n",
            "Epoch 67/100\n",
            "240/240 [==============================] - 0s 770us/step - loss: 27.5602\n",
            "Epoch 68/100\n",
            "240/240 [==============================] - 0s 761us/step - loss: 27.3343\n",
            "Epoch 69/100\n",
            "240/240 [==============================] - 0s 762us/step - loss: 27.1908\n",
            "Epoch 70/100\n",
            "240/240 [==============================] - 0s 812us/step - loss: 27.3816\n",
            "Epoch 71/100\n",
            "240/240 [==============================] - 0s 870us/step - loss: 27.7162\n",
            "Epoch 72/100\n",
            "240/240 [==============================] - 0s 841us/step - loss: 27.9847\n",
            "Epoch 73/100\n",
            "240/240 [==============================] - 0s 812us/step - loss: 27.3063\n",
            "Epoch 74/100\n",
            "240/240 [==============================] - 0s 803us/step - loss: 28.4890\n",
            "Epoch 75/100\n",
            "240/240 [==============================] - 0s 803us/step - loss: 27.4521\n",
            "Epoch 76/100\n",
            "240/240 [==============================] - 0s 803us/step - loss: 27.6879\n",
            "Epoch 77/100\n",
            "240/240 [==============================] - 0s 812us/step - loss: 28.0575\n",
            "Epoch 78/100\n",
            "240/240 [==============================] - 0s 795us/step - loss: 27.3029\n",
            "Epoch 79/100\n",
            "240/240 [==============================] - 0s 799us/step - loss: 27.6004\n",
            "Epoch 80/100\n",
            "240/240 [==============================] - 0s 799us/step - loss: 28.2338\n",
            "Epoch 81/100\n",
            "240/240 [==============================] - 0s 799us/step - loss: 27.6164\n",
            "Epoch 82/100\n",
            "240/240 [==============================] - 0s 812us/step - loss: 27.6878\n",
            "Epoch 83/100\n",
            "240/240 [==============================] - 0s 795us/step - loss: 27.5052\n",
            "Epoch 84/100\n",
            "240/240 [==============================] - 0s 782us/step - loss: 28.0390\n",
            "Epoch 85/100\n",
            "240/240 [==============================] - 0s 808us/step - loss: 27.7120\n",
            "Epoch 86/100\n",
            "240/240 [==============================] - 0s 824us/step - loss: 28.6597\n",
            "Epoch 87/100\n",
            "240/240 [==============================] - 0s 791us/step - loss: 27.3371\n",
            "Epoch 88/100\n",
            "240/240 [==============================] - 0s 791us/step - loss: 27.9117\n",
            "Epoch 89/100\n",
            "240/240 [==============================] - 0s 812us/step - loss: 27.7883\n",
            "Epoch 90/100\n",
            "240/240 [==============================] - 0s 808us/step - loss: 27.7451\n",
            "Epoch 91/100\n",
            "240/240 [==============================] - 0s 795us/step - loss: 27.7644\n",
            "Epoch 92/100\n",
            "240/240 [==============================] - 0s 816us/step - loss: 28.1921\n",
            "Epoch 93/100\n",
            "240/240 [==============================] - 0s 887us/step - loss: 27.5373\n",
            "Epoch 94/100\n",
            "240/240 [==============================] - 0s 862us/step - loss: 27.6128\n",
            "Epoch 95/100\n",
            "240/240 [==============================] - 0s 824us/step - loss: 27.6763\n",
            "Epoch 96/100\n",
            "240/240 [==============================] - 0s 812us/step - loss: 28.3571\n",
            "Epoch 97/100\n",
            "240/240 [==============================] - 0s 774us/step - loss: 26.9546\n",
            "Epoch 98/100\n",
            "240/240 [==============================] - 0s 766us/step - loss: 27.5512\n",
            "Epoch 99/100\n",
            "240/240 [==============================] - 0s 770us/step - loss: 29.0114\n",
            "Epoch 100/100\n",
            "240/240 [==============================] - 0s 858us/step - loss: 27.4325\n"
          ]
        },
        {
          "data": {
            "text/plain": [
              "<keras.callbacks.History at 0x24cad0b7610>"
            ]
          },
          "execution_count": 11,
          "metadata": {},
          "output_type": "execute_result"
        }
      ],
      "source": [
        "ann.fit(X_train, y_train, batch_size = 32, epochs = 100)"
      ]
    },
    {
      "cell_type": "markdown",
      "metadata": {
        "colab_type": "text",
        "id": "0H0zKKNEBLD5"
      },
      "source": [
        "### Predicting the results of the Test set"
      ]
    },
    {
      "cell_type": "code",
      "execution_count": 12,
      "metadata": {
        "colab": {
          "base_uri": "https://localhost:8080/",
          "height": 134
        },
        "colab_type": "code",
        "id": "IA0yApEmBG1X",
        "outputId": "cb981e1f-9204-4a2a-fece-9d66a6919189"
      },
      "outputs": [
        {
          "name": "stdout",
          "output_type": "stream",
          "text": [
            "60/60 [==============================] - 0s 661us/step\n",
            "[[432.   431.23]\n",
            " [463.06 460.01]\n",
            " [466.56 461.14]\n",
            " ...\n",
            " [473.81 473.26]\n",
            " [440.57 438.  ]\n",
            " [459.79 463.28]]\n"
          ]
        }
      ],
      "source": [
        "y_pred = ann.predict(X_test)\n",
        "np.set_printoptions(precision=2)\n",
        "print(np.concatenate((y_pred.reshape(len(y_pred),1), y_test.reshape(len(y_test),1)),1))"
      ]
    }
  ],
  "metadata": {
    "colab": {
      "collapsed_sections": [],
      "name": "Artificial Neural Network",
      "provenance": [],
      "toc_visible": true
    },
    "kernelspec": {
      "display_name": "Python 3.10.5 64-bit",
      "language": "python",
      "name": "python3"
    },
    "language_info": {
      "codemirror_mode": {
        "name": "ipython",
        "version": 3
      },
      "file_extension": ".py",
      "mimetype": "text/x-python",
      "name": "python",
      "nbconvert_exporter": "python",
      "pygments_lexer": "ipython3",
      "version": "3.10.5"
    },
    "vscode": {
      "interpreter": {
        "hash": "369f2c481f4da34e4445cda3fffd2e751bd1c4d706f27375911949ba6bb62e1c"
      }
    }
  },
  "nbformat": 4,
  "nbformat_minor": 0
}
