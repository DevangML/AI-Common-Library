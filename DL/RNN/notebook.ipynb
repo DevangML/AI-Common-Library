{
 "cells": [
  {
   "cell_type": "markdown",
   "metadata": {},
   "source": [
    "## Recurrent Neural Network"
   ]
  },
  {
   "cell_type": "markdown",
   "metadata": {},
   "source": [
    "### Data Preprocessing"
   ]
  },
  {
   "cell_type": "code",
   "execution_count": 3,
   "metadata": {},
   "outputs": [],
   "source": [
    "import numpy as np\n",
    "import matplotlib.pyplot as plt\n",
    "import pandas as pd"
   ]
  },
  {
   "cell_type": "code",
   "execution_count": 4,
   "metadata": {},
   "outputs": [],
   "source": [
    "dataset_train = pd.read_csv('Google_Stock_Price_Train.csv')\n",
    "training_set = dataset_train.iloc[:, 1:2].values"
   ]
  },
  {
   "cell_type": "markdown",
   "metadata": {},
   "source": [
    "### Feature Scaling"
   ]
  },
  {
   "cell_type": "code",
   "execution_count": 5,
   "metadata": {},
   "outputs": [],
   "source": [
    "from sklearn.preprocessing import MinMaxScaler\n",
    "sc = MinMaxScaler(feature_range=(0, 1))\n",
    "training_set_scaled = sc.fit_transform(training_set)"
   ]
  },
  {
   "cell_type": "markdown",
   "metadata": {},
   "source": [
    "#### Creating DS for 60 previous stock prizes in time and 1 output stock prize"
   ]
  },
  {
   "cell_type": "code",
   "execution_count": 6,
   "metadata": {},
   "outputs": [],
   "source": [
    "X_train = []\n",
    "y_train = []\n",
    "for i in range(60, 1258):\n",
    "  X_train.append(training_set_scaled[i-60:i, 0])\n",
    "  y_train.append(training_set_scaled[i, 0])\n",
    "X_train, y_train = np.array(X_train), np.array(y_train)"
   ]
  },
  {
   "cell_type": "markdown",
   "metadata": {},
   "source": [
    "#### Reshaping to add third dimension i.e. indicators"
   ]
  },
  {
   "cell_type": "code",
   "execution_count": 7,
   "metadata": {},
   "outputs": [],
   "source": [
    "X_train = np.reshape(X_train, (X_train.shape[0], X_train.shape[1], 1))"
   ]
  },
  {
   "cell_type": "markdown",
   "metadata": {},
   "source": [
    "### Building and Training RNN"
   ]
  },
  {
   "cell_type": "code",
   "execution_count": 8,
   "metadata": {},
   "outputs": [
    {
     "name": "stderr",
     "output_type": "stream",
     "text": [
      "2022-07-19 17:35:27.784871: W tensorflow/stream_executor/platform/default/dso_loader.cc:64] Could not load dynamic library 'libcudart.so.11.0'; dlerror: libcudart.so.11.0: cannot open shared object file: No such file or directory\n",
      "2022-07-19 17:35:27.784898: I tensorflow/stream_executor/cuda/cudart_stub.cc:29] Ignore above cudart dlerror if you do not have a GPU set up on your machine.\n"
     ]
    }
   ],
   "source": [
    "from keras.models import Sequential\n",
    "from keras.layers import Dense\n",
    "from keras.layers import LSTM\n",
    "from keras.layers import Dropout"
   ]
  },
  {
   "cell_type": "code",
   "execution_count": 9,
   "metadata": {},
   "outputs": [
    {
     "name": "stderr",
     "output_type": "stream",
     "text": [
      "2022-07-19 17:35:49.199459: W tensorflow/stream_executor/platform/default/dso_loader.cc:64] Could not load dynamic library 'libcuda.so.1'; dlerror: libcuda.so.1: cannot open shared object file: No such file or directory\n",
      "2022-07-19 17:35:49.199672: W tensorflow/stream_executor/cuda/cuda_driver.cc:269] failed call to cuInit: UNKNOWN ERROR (303)\n",
      "2022-07-19 17:35:49.199764: I tensorflow/stream_executor/cuda/cuda_diagnostics.cc:156] kernel driver does not appear to be running on this host (fedora): /proc/driver/nvidia/version does not exist\n",
      "2022-07-19 17:35:49.200885: I tensorflow/core/platform/cpu_feature_guard.cc:193] This TensorFlow binary is optimized with oneAPI Deep Neural Network Library (oneDNN) to use the following CPU instructions in performance-critical operations:  AVX2 FMA\n",
      "To enable them in other operations, rebuild TensorFlow with the appropriate compiler flags.\n"
     ]
    }
   ],
   "source": [
    "regressor = Sequential()"
   ]
  },
  {
   "cell_type": "markdown",
   "metadata": {},
   "source": [
    "### Adding first LSTM layer and some dropout regularisation"
   ]
  },
  {
   "cell_type": "code",
   "execution_count": 10,
   "metadata": {},
   "outputs": [],
   "source": [
    "regressor.add(LSTM(units = 50, return_sequences= True, input_shape = (X_train.shape[1], 1)))\n",
    "regressor.add(Dropout(0.2))"
   ]
  },
  {
   "cell_type": "markdown",
   "metadata": {},
   "source": [
    "### Adding second LSTM layer and some Dropout regularisation"
   ]
  },
  {
   "cell_type": "code",
   "execution_count": 11,
   "metadata": {},
   "outputs": [],
   "source": [
    "regressor.add(LSTM(units = 50, return_sequences= True))\n",
    "regressor.add(Dropout(0.2))"
   ]
  },
  {
   "cell_type": "markdown",
   "metadata": {},
   "source": [
    "### Adding third LSTM layer and some Dropout regularisation"
   ]
  },
  {
   "cell_type": "code",
   "execution_count": 12,
   "metadata": {},
   "outputs": [],
   "source": [
    "regressor.add(LSTM(units = 50, return_sequences = True))\n",
    "regressor.add(Dropout(0.2))"
   ]
  },
  {
   "cell_type": "markdown",
   "metadata": {},
   "source": [
    "### Adding fourth LSTM layer and some Dropout regularisation"
   ]
  },
  {
   "cell_type": "code",
   "execution_count": 13,
   "metadata": {},
   "outputs": [],
   "source": [
    "regressor.add(LSTM(units = 50))\n",
    "regressor.add(Dropout(0.2))"
   ]
  },
  {
   "cell_type": "markdown",
   "metadata": {},
   "source": [
    "### Adding the output layer"
   ]
  },
  {
   "cell_type": "code",
   "execution_count": 14,
   "metadata": {},
   "outputs": [],
   "source": [
    "regressor.add(Dense(units = 1))"
   ]
  },
  {
   "cell_type": "markdown",
   "metadata": {},
   "source": [
    "### Compiling RNN"
   ]
  },
  {
   "cell_type": "code",
   "execution_count": 15,
   "metadata": {},
   "outputs": [],
   "source": [
    "regressor.compile(optimizer='adam', loss='mean_squared_error')"
   ]
  },
  {
   "cell_type": "markdown",
   "metadata": {},
   "source": [
    "### Fitting RNN to the Training set"
   ]
  },
  {
   "cell_type": "code",
   "execution_count": 16,
   "metadata": {},
   "outputs": [
    {
     "name": "stdout",
     "output_type": "stream",
     "text": [
      "Epoch 1/100\n",
      "38/38 [==============================] - 14s 119ms/step - loss: 0.0400\n",
      "Epoch 2/100\n",
      "38/38 [==============================] - 4s 117ms/step - loss: 0.0068\n",
      "Epoch 3/100\n",
      "38/38 [==============================] - 5s 122ms/step - loss: 0.0062\n",
      "Epoch 4/100\n",
      "38/38 [==============================] - 4s 117ms/step - loss: 0.0053\n",
      "Epoch 5/100\n",
      "38/38 [==============================] - 6s 145ms/step - loss: 0.0051\n",
      "Epoch 6/100\n",
      "38/38 [==============================] - 6s 156ms/step - loss: 0.0059\n",
      "Epoch 7/100\n",
      "38/38 [==============================] - 6s 153ms/step - loss: 0.0051\n",
      "Epoch 8/100\n",
      "38/38 [==============================] - 5s 142ms/step - loss: 0.0046\n",
      "Epoch 9/100\n",
      "38/38 [==============================] - 6s 145ms/step - loss: 0.0046\n",
      "Epoch 10/100\n",
      "38/38 [==============================] - 6s 145ms/step - loss: 0.0046\n",
      "Epoch 11/100\n",
      "38/38 [==============================] - 5s 141ms/step - loss: 0.0046\n",
      "Epoch 12/100\n",
      "38/38 [==============================] - 5s 141ms/step - loss: 0.0044\n",
      "Epoch 13/100\n",
      "38/38 [==============================] - 6s 146ms/step - loss: 0.0040\n",
      "Epoch 14/100\n",
      "38/38 [==============================] - 5s 142ms/step - loss: 0.0035\n",
      "Epoch 15/100\n",
      "38/38 [==============================] - 6s 145ms/step - loss: 0.0036\n",
      "Epoch 16/100\n",
      "38/38 [==============================] - 5s 142ms/step - loss: 0.0040\n",
      "Epoch 17/100\n",
      "38/38 [==============================] - 6s 145ms/step - loss: 0.0040\n",
      "Epoch 18/100\n",
      "38/38 [==============================] - 5s 143ms/step - loss: 0.0042\n",
      "Epoch 19/100\n",
      "38/38 [==============================] - 6s 145ms/step - loss: 0.0046\n",
      "Epoch 20/100\n",
      "38/38 [==============================] - 5s 143ms/step - loss: 0.0037\n",
      "Epoch 21/100\n",
      "38/38 [==============================] - 5s 143ms/step - loss: 0.0032\n",
      "Epoch 22/100\n",
      "38/38 [==============================] - 6s 145ms/step - loss: 0.0033\n",
      "Epoch 23/100\n",
      "38/38 [==============================] - 5s 142ms/step - loss: 0.0029\n",
      "Epoch 24/100\n",
      "38/38 [==============================] - 6s 146ms/step - loss: 0.0036\n",
      "Epoch 25/100\n",
      "38/38 [==============================] - 5s 141ms/step - loss: 0.0030\n",
      "Epoch 26/100\n",
      "38/38 [==============================] - 6s 145ms/step - loss: 0.0032\n",
      "Epoch 27/100\n",
      "38/38 [==============================] - 5s 143ms/step - loss: 0.0032\n",
      "Epoch 28/100\n",
      "38/38 [==============================] - 6s 145ms/step - loss: 0.0034\n",
      "Epoch 29/100\n",
      "38/38 [==============================] - 5s 143ms/step - loss: 0.0036\n",
      "Epoch 30/100\n",
      "38/38 [==============================] - 5s 142ms/step - loss: 0.0029\n",
      "Epoch 31/100\n",
      "38/38 [==============================] - 6s 145ms/step - loss: 0.0027\n",
      "Epoch 32/100\n",
      "38/38 [==============================] - 5s 142ms/step - loss: 0.0028\n",
      "Epoch 33/100\n",
      "38/38 [==============================] - 6s 145ms/step - loss: 0.0026\n",
      "Epoch 34/100\n",
      "38/38 [==============================] - 5s 143ms/step - loss: 0.0028\n",
      "Epoch 35/100\n",
      "38/38 [==============================] - 5s 144ms/step - loss: 0.0027\n",
      "Epoch 36/100\n",
      "38/38 [==============================] - 6s 145ms/step - loss: 0.0030\n",
      "Epoch 37/100\n",
      "38/38 [==============================] - 6s 145ms/step - loss: 0.0028\n",
      "Epoch 38/100\n",
      "38/38 [==============================] - 5s 142ms/step - loss: 0.0027\n",
      "Epoch 39/100\n",
      "38/38 [==============================] - 5s 142ms/step - loss: 0.0025\n",
      "Epoch 40/100\n",
      "38/38 [==============================] - 6s 144ms/step - loss: 0.0023\n",
      "Epoch 41/100\n",
      "38/38 [==============================] - 5s 144ms/step - loss: 0.0026\n",
      "Epoch 42/100\n",
      "38/38 [==============================] - 6s 146ms/step - loss: 0.0025\n",
      "Epoch 43/100\n",
      "38/38 [==============================] - 5s 144ms/step - loss: 0.0026\n",
      "Epoch 44/100\n",
      "38/38 [==============================] - 6s 145ms/step - loss: 0.0023\n",
      "Epoch 45/100\n",
      "38/38 [==============================] - 5s 143ms/step - loss: 0.0025\n",
      "Epoch 46/100\n",
      "38/38 [==============================] - 6s 145ms/step - loss: 0.0023\n",
      "Epoch 47/100\n",
      "38/38 [==============================] - 5s 143ms/step - loss: 0.0022\n",
      "Epoch 48/100\n",
      "38/38 [==============================] - 5s 144ms/step - loss: 0.0022\n",
      "Epoch 49/100\n",
      "38/38 [==============================] - 6s 145ms/step - loss: 0.0022\n",
      "Epoch 50/100\n",
      "38/38 [==============================] - 5s 143ms/step - loss: 0.0024\n",
      "Epoch 51/100\n",
      "38/38 [==============================] - 6s 145ms/step - loss: 0.0022\n",
      "Epoch 52/100\n",
      "38/38 [==============================] - 5s 143ms/step - loss: 0.0024\n",
      "Epoch 53/100\n",
      "38/38 [==============================] - 6s 146ms/step - loss: 0.0022\n",
      "Epoch 54/100\n",
      "38/38 [==============================] - 6s 145ms/step - loss: 0.0025\n",
      "Epoch 55/100\n",
      "38/38 [==============================] - 6s 155ms/step - loss: 0.0025\n",
      "Epoch 56/100\n",
      "38/38 [==============================] - 6s 146ms/step - loss: 0.0019\n",
      "Epoch 57/100\n",
      "38/38 [==============================] - 5s 133ms/step - loss: 0.0021\n",
      "Epoch 58/100\n",
      "38/38 [==============================] - 5s 133ms/step - loss: 0.0021\n",
      "Epoch 59/100\n",
      "38/38 [==============================] - 5s 131ms/step - loss: 0.0020\n",
      "Epoch 60/100\n",
      "38/38 [==============================] - 5s 136ms/step - loss: 0.0019\n",
      "Epoch 61/100\n",
      "38/38 [==============================] - 5s 130ms/step - loss: 0.0019\n",
      "Epoch 62/100\n",
      "38/38 [==============================] - 5s 132ms/step - loss: 0.0020\n",
      "Epoch 63/100\n",
      "38/38 [==============================] - 5s 131ms/step - loss: 0.0020\n",
      "Epoch 64/100\n",
      "38/38 [==============================] - 5s 131ms/step - loss: 0.0022\n",
      "Epoch 65/100\n",
      "38/38 [==============================] - 5s 133ms/step - loss: 0.0021\n",
      "Epoch 66/100\n",
      "38/38 [==============================] - 5s 130ms/step - loss: 0.0020\n",
      "Epoch 67/100\n",
      "38/38 [==============================] - 5s 134ms/step - loss: 0.0021\n",
      "Epoch 68/100\n",
      "38/38 [==============================] - 5s 131ms/step - loss: 0.0019\n",
      "Epoch 69/100\n",
      "38/38 [==============================] - 5s 134ms/step - loss: 0.0020\n",
      "Epoch 70/100\n",
      "38/38 [==============================] - 5s 133ms/step - loss: 0.0018\n",
      "Epoch 71/100\n",
      "38/38 [==============================] - 5s 131ms/step - loss: 0.0017\n",
      "Epoch 72/100\n",
      "38/38 [==============================] - 5s 134ms/step - loss: 0.0017\n",
      "Epoch 73/100\n",
      "38/38 [==============================] - 5s 132ms/step - loss: 0.0022\n",
      "Epoch 74/100\n",
      "38/38 [==============================] - 5s 134ms/step - loss: 0.0018\n",
      "Epoch 75/100\n",
      "38/38 [==============================] - 5s 131ms/step - loss: 0.0017\n",
      "Epoch 76/100\n",
      "38/38 [==============================] - 5s 133ms/step - loss: 0.0017\n",
      "Epoch 77/100\n",
      "38/38 [==============================] - 5s 131ms/step - loss: 0.0017\n",
      "Epoch 78/100\n",
      "38/38 [==============================] - 5s 131ms/step - loss: 0.0017\n",
      "Epoch 79/100\n",
      "38/38 [==============================] - 5s 133ms/step - loss: 0.0016\n",
      "Epoch 80/100\n",
      "38/38 [==============================] - 5s 131ms/step - loss: 0.0017\n",
      "Epoch 81/100\n",
      "38/38 [==============================] - 5s 133ms/step - loss: 0.0016\n",
      "Epoch 82/100\n",
      "38/38 [==============================] - 5s 132ms/step - loss: 0.0017\n",
      "Epoch 83/100\n",
      "38/38 [==============================] - 5s 133ms/step - loss: 0.0016\n",
      "Epoch 84/100\n",
      "38/38 [==============================] - 5s 131ms/step - loss: 0.0017\n",
      "Epoch 85/100\n",
      "38/38 [==============================] - 5s 131ms/step - loss: 0.0017\n",
      "Epoch 86/100\n",
      "38/38 [==============================] - 5s 133ms/step - loss: 0.0016\n",
      "Epoch 87/100\n",
      "38/38 [==============================] - 5s 131ms/step - loss: 0.0016\n",
      "Epoch 88/100\n",
      "38/38 [==============================] - 5s 135ms/step - loss: 0.0015\n",
      "Epoch 89/100\n",
      "38/38 [==============================] - 5s 130ms/step - loss: 0.0016\n",
      "Epoch 90/100\n",
      "38/38 [==============================] - 5s 133ms/step - loss: 0.0015\n",
      "Epoch 91/100\n",
      "38/38 [==============================] - 5s 131ms/step - loss: 0.0019\n",
      "Epoch 92/100\n",
      "38/38 [==============================] - 5s 131ms/step - loss: 0.0017\n",
      "Epoch 93/100\n",
      "38/38 [==============================] - 5s 133ms/step - loss: 0.0015\n",
      "Epoch 94/100\n",
      "38/38 [==============================] - 5s 131ms/step - loss: 0.0014\n",
      "Epoch 95/100\n",
      "38/38 [==============================] - 5s 133ms/step - loss: 0.0015\n",
      "Epoch 96/100\n",
      "38/38 [==============================] - 5s 131ms/step - loss: 0.0014\n",
      "Epoch 97/100\n",
      "38/38 [==============================] - 5s 133ms/step - loss: 0.0014\n",
      "Epoch 98/100\n",
      "38/38 [==============================] - 5s 132ms/step - loss: 0.0014\n",
      "Epoch 99/100\n",
      "38/38 [==============================] - 5s 130ms/step - loss: 0.0015\n",
      "Epoch 100/100\n",
      "38/38 [==============================] - 5s 134ms/step - loss: 0.0013\n"
     ]
    },
    {
     "data": {
      "text/plain": [
       "<keras.callbacks.History at 0x7f77399a8790>"
      ]
     },
     "execution_count": 16,
     "metadata": {},
     "output_type": "execute_result"
    }
   ],
   "source": [
    "regressor.fit(X_train, y_train, epochs = 100, batch_size = 32)"
   ]
  },
  {
   "cell_type": "markdown",
   "metadata": {},
   "source": [
    "### Making the predictions and visualising the results"
   ]
  },
  {
   "cell_type": "markdown",
   "metadata": {},
   "source": [
    "### Getting real stock prize of 2017"
   ]
  },
  {
   "cell_type": "code",
   "execution_count": 17,
   "metadata": {},
   "outputs": [],
   "source": [
    "dataset_test = pd.read_csv('Google_Stock_Price_Test.csv')\n",
    "real_stock_prize = dataset_test.iloc[:, 1:2].values"
   ]
  },
  {
   "cell_type": "markdown",
   "metadata": {},
   "source": [
    "Getting the predicted stock price of 2017"
   ]
  },
  {
   "cell_type": "code",
   "execution_count": null,
   "metadata": {},
   "outputs": [],
   "source": [
    "dataset_total = pd.concat((dataset_train['Open'], dataset_test['Open']), axis = 0)"
   ]
  }
 ],
 "metadata": {
  "kernelspec": {
   "display_name": "Python 3.10.5 64-bit",
   "language": "python",
   "name": "python3"
  },
  "language_info": {
   "codemirror_mode": {
    "name": "ipython",
    "version": 3
   },
   "file_extension": ".py",
   "mimetype": "text/x-python",
   "name": "python",
   "nbconvert_exporter": "python",
   "pygments_lexer": "ipython3",
   "version": "3.10.5"
  },
  "vscode": {
   "interpreter": {
    "hash": "e7370f93d1d0cde622a1f8e1c04877d8463912d04d973331ad4851f04de6915a"
   }
  }
 },
 "nbformat": 4,
 "nbformat_minor": 2
}
