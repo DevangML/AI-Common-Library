{
 "cells": [
  {
   "cell_type": "markdown",
   "metadata": {},
   "source": [
    "# Artificial Neural Network"
   ]
  },
  {
   "cell_type": "markdown",
   "metadata": {},
   "source": [
    "## Importing the libraries"
   ]
  },
  {
   "cell_type": "code",
   "execution_count": 1,
   "metadata": {},
   "outputs": [],
   "source": [
    "import numpy as np\n",
    "import pandas as pd\n",
    "import tensorflow as tf"
   ]
  },
  {
   "cell_type": "markdown",
   "metadata": {},
   "source": [
    "## Data Preprocessing"
   ]
  },
  {
   "cell_type": "code",
   "execution_count": 2,
   "metadata": {},
   "outputs": [],
   "source": [
    "dataset = pd.read_csv('Churn_Modelling.csv')\n",
    "X = dataset.iloc[:, 3:-1].values\n",
    "y = dataset.iloc[:, -1].values"
   ]
  },
  {
   "cell_type": "code",
   "execution_count": 3,
   "metadata": {},
   "outputs": [
    {
     "name": "stdout",
     "output_type": "stream",
     "text": [
      "[[619 'France' 'Female' ... 1 1 101348.88]\n",
      " [608 'Spain' 'Female' ... 0 1 112542.58]\n",
      " [502 'France' 'Female' ... 1 0 113931.57]\n",
      " ...\n",
      " [709 'France' 'Female' ... 0 1 42085.58]\n",
      " [772 'Germany' 'Male' ... 1 0 92888.52]\n",
      " [792 'France' 'Female' ... 1 0 38190.78]]\n"
     ]
    }
   ],
   "source": [
    "print(X)"
   ]
  },
  {
   "cell_type": "code",
   "execution_count": 4,
   "metadata": {},
   "outputs": [
    {
     "name": "stdout",
     "output_type": "stream",
     "text": [
      "[1 0 1 ... 1 1 0]\n"
     ]
    }
   ],
   "source": [
    "print(y)"
   ]
  },
  {
   "cell_type": "markdown",
   "metadata": {},
   "source": [
    "## Categorical Data Encoding"
   ]
  },
  {
   "cell_type": "code",
   "execution_count": 5,
   "metadata": {},
   "outputs": [],
   "source": [
    "from sklearn.preprocessing import LabelEncoder\n",
    "le = LabelEncoder()\n",
    "X[:, 2] = le.fit_transform(X[:, 2])"
   ]
  },
  {
   "cell_type": "code",
   "execution_count": 6,
   "metadata": {},
   "outputs": [
    {
     "name": "stdout",
     "output_type": "stream",
     "text": [
      "[[619 'France' 0 ... 1 1 101348.88]\n",
      " [608 'Spain' 0 ... 0 1 112542.58]\n",
      " [502 'France' 0 ... 1 0 113931.57]\n",
      " ...\n",
      " [709 'France' 0 ... 0 1 42085.58]\n",
      " [772 'Germany' 1 ... 1 0 92888.52]\n",
      " [792 'France' 0 ... 1 0 38190.78]]\n"
     ]
    }
   ],
   "source": [
    "print(X)"
   ]
  },
  {
   "cell_type": "markdown",
   "metadata": {},
   "source": [
    "### OneHotEncoding the \"Geography\" column"
   ]
  },
  {
   "cell_type": "code",
   "execution_count": 7,
   "metadata": {},
   "outputs": [],
   "source": [
    "from sklearn.compose import ColumnTransformer\n",
    "from sklearn.preprocessing import OneHotEncoder\n",
    "\n",
    "ct = ColumnTransformer(transformers=[('encoder', OneHotEncoder(), [1])], remainder='passthrough')\n",
    "X = np.array(ct.fit_transform(X))"
   ]
  },
  {
   "cell_type": "code",
   "execution_count": 8,
   "metadata": {},
   "outputs": [
    {
     "name": "stdout",
     "output_type": "stream",
     "text": [
      "[[1.0 0.0 0.0 ... 1 1 101348.88]\n",
      " [0.0 0.0 1.0 ... 0 1 112542.58]\n",
      " [1.0 0.0 0.0 ... 1 0 113931.57]\n",
      " ...\n",
      " [1.0 0.0 0.0 ... 0 1 42085.58]\n",
      " [0.0 1.0 0.0 ... 1 0 92888.52]\n",
      " [1.0 0.0 0.0 ... 1 0 38190.78]]\n"
     ]
    }
   ],
   "source": [
    "print(X)"
   ]
  },
  {
   "cell_type": "markdown",
   "metadata": {},
   "source": [
    "### Train Test Splitting"
   ]
  },
  {
   "cell_type": "code",
   "execution_count": 9,
   "metadata": {},
   "outputs": [],
   "source": [
    "from sklearn.model_selection import train_test_split\n",
    "X_train, X_test, y_train, y_test = train_test_split(\n",
    "    X, y, test_size=0.2, random_state=0)"
   ]
  },
  {
   "cell_type": "markdown",
   "metadata": {},
   "source": [
    "### Feature Scaling"
   ]
  },
  {
   "cell_type": "code",
   "execution_count": 10,
   "metadata": {},
   "outputs": [],
   "source": [
    "from sklearn.preprocessing import RobustScaler\n",
    "rsc = RobustScaler()\n",
    "X_train = rsc.fit_transform(X_train)\n",
    "X_test = rsc.transform(X_test)"
   ]
  },
  {
   "cell_type": "markdown",
   "metadata": {},
   "source": [
    "## Building ANN"
   ]
  },
  {
   "cell_type": "code",
   "execution_count": 11,
   "metadata": {},
   "outputs": [],
   "source": [
    "ann = tf.keras.models.Sequential()"
   ]
  },
  {
   "cell_type": "markdown",
   "metadata": {},
   "source": [
    "### Adding the input layer and the first hidden layer"
   ]
  },
  {
   "cell_type": "code",
   "execution_count": 12,
   "metadata": {},
   "outputs": [],
   "source": [
    "ann.add(tf.keras.layers.Dense(units=6, activation='relu'))"
   ]
  },
  {
   "cell_type": "markdown",
   "metadata": {},
   "source": [
    "### Adding second hidden layer"
   ]
  },
  {
   "cell_type": "code",
   "execution_count": 13,
   "metadata": {},
   "outputs": [],
   "source": [
    "ann.add(tf.keras.layers.Dense(units=6, activation='relu'))"
   ]
  },
  {
   "cell_type": "markdown",
   "metadata": {},
   "source": [
    "### Adding output layer"
   ]
  },
  {
   "cell_type": "code",
   "execution_count": 14,
   "metadata": {},
   "outputs": [],
   "source": [
    "ann.add(tf.keras.layers.Dense(units=1, activation='sigmoid'))"
   ]
  },
  {
   "cell_type": "markdown",
   "metadata": {},
   "source": [
    "## Training the ANN"
   ]
  },
  {
   "cell_type": "markdown",
   "metadata": {},
   "source": [
    "### Compiling the ANN"
   ]
  },
  {
   "cell_type": "code",
   "execution_count": 16,
   "metadata": {},
   "outputs": [],
   "source": [
    "ann.compile(optimizer= 'adam', loss = 'binary_crossentropy', metrics = ['accuracy'])"
   ]
  },
  {
   "cell_type": "markdown",
   "metadata": {},
   "source": [
    "### Training the ANN on Training set"
   ]
  },
  {
   "cell_type": "code",
   "execution_count": 17,
   "metadata": {},
   "outputs": [
    {
     "name": "stdout",
     "output_type": "stream",
     "text": [
      "Epoch 1/100\n",
      "250/250 [==============================] - 1s 851us/step - loss: 0.5178 - accuracy: 0.7933\n",
      "Epoch 2/100\n",
      "250/250 [==============================] - 0s 847us/step - loss: 0.4658 - accuracy: 0.7960\n",
      "Epoch 3/100\n",
      "250/250 [==============================] - 0s 859us/step - loss: 0.4414 - accuracy: 0.8098\n",
      "Epoch 4/100\n",
      "250/250 [==============================] - 0s 908us/step - loss: 0.4244 - accuracy: 0.8217\n",
      "Epoch 5/100\n",
      "250/250 [==============================] - 0s 855us/step - loss: 0.4137 - accuracy: 0.8249\n",
      "Epoch 6/100\n",
      "250/250 [==============================] - 0s 831us/step - loss: 0.4073 - accuracy: 0.8275\n",
      "Epoch 7/100\n",
      "250/250 [==============================] - 0s 823us/step - loss: 0.4023 - accuracy: 0.8291\n",
      "Epoch 8/100\n",
      "250/250 [==============================] - 0s 827us/step - loss: 0.3985 - accuracy: 0.8306\n",
      "Epoch 9/100\n",
      "250/250 [==============================] - 0s 831us/step - loss: 0.3950 - accuracy: 0.8296\n",
      "Epoch 10/100\n",
      "250/250 [==============================] - 0s 831us/step - loss: 0.3921 - accuracy: 0.8306\n",
      "Epoch 11/100\n",
      "250/250 [==============================] - 0s 888us/step - loss: 0.3889 - accuracy: 0.8315\n",
      "Epoch 12/100\n",
      "250/250 [==============================] - 0s 851us/step - loss: 0.3861 - accuracy: 0.8315\n",
      "Epoch 13/100\n",
      "250/250 [==============================] - 0s 831us/step - loss: 0.3830 - accuracy: 0.8316\n",
      "Epoch 14/100\n",
      "250/250 [==============================] - 0s 835us/step - loss: 0.3807 - accuracy: 0.8331\n",
      "Epoch 15/100\n",
      "250/250 [==============================] - 0s 831us/step - loss: 0.3783 - accuracy: 0.8329\n",
      "Epoch 16/100\n",
      "250/250 [==============================] - 0s 819us/step - loss: 0.3759 - accuracy: 0.8342\n",
      "Epoch 17/100\n",
      "250/250 [==============================] - 0s 839us/step - loss: 0.3739 - accuracy: 0.8404\n",
      "Epoch 18/100\n",
      "250/250 [==============================] - 0s 884us/step - loss: 0.3718 - accuracy: 0.8454\n",
      "Epoch 19/100\n",
      "250/250 [==============================] - 0s 867us/step - loss: 0.3699 - accuracy: 0.8468\n",
      "Epoch 20/100\n",
      "250/250 [==============================] - 0s 839us/step - loss: 0.3682 - accuracy: 0.8468\n",
      "Epoch 21/100\n",
      "250/250 [==============================] - 0s 823us/step - loss: 0.3668 - accuracy: 0.8464\n",
      "Epoch 22/100\n",
      "250/250 [==============================] - 0s 819us/step - loss: 0.3656 - accuracy: 0.8499\n",
      "Epoch 23/100\n",
      "250/250 [==============================] - 0s 823us/step - loss: 0.3648 - accuracy: 0.8470\n",
      "Epoch 24/100\n",
      "250/250 [==============================] - 0s 827us/step - loss: 0.3635 - accuracy: 0.8479\n",
      "Epoch 25/100\n",
      "250/250 [==============================] - 0s 815us/step - loss: 0.3625 - accuracy: 0.8495\n",
      "Epoch 26/100\n",
      "250/250 [==============================] - 0s 839us/step - loss: 0.3618 - accuracy: 0.8490\n",
      "Epoch 27/100\n",
      "250/250 [==============================] - 0s 912us/step - loss: 0.3611 - accuracy: 0.8506\n",
      "Epoch 28/100\n",
      "250/250 [==============================] - 0s 855us/step - loss: 0.3603 - accuracy: 0.8487\n",
      "Epoch 29/100\n",
      "250/250 [==============================] - 0s 851us/step - loss: 0.3601 - accuracy: 0.8495\n",
      "Epoch 30/100\n",
      "250/250 [==============================] - 0s 924us/step - loss: 0.3589 - accuracy: 0.8499\n",
      "Epoch 31/100\n",
      "250/250 [==============================] - 0s 835us/step - loss: 0.3586 - accuracy: 0.8499\n",
      "Epoch 32/100\n",
      "250/250 [==============================] - 0s 827us/step - loss: 0.3575 - accuracy: 0.8501\n",
      "Epoch 33/100\n",
      "250/250 [==============================] - 0s 855us/step - loss: 0.3564 - accuracy: 0.8505\n",
      "Epoch 34/100\n",
      "250/250 [==============================] - 0s 867us/step - loss: 0.3555 - accuracy: 0.8526\n",
      "Epoch 35/100\n",
      "250/250 [==============================] - 0s 835us/step - loss: 0.3548 - accuracy: 0.8525\n",
      "Epoch 36/100\n",
      "250/250 [==============================] - 0s 871us/step - loss: 0.3545 - accuracy: 0.8540\n",
      "Epoch 37/100\n",
      "250/250 [==============================] - 0s 843us/step - loss: 0.3537 - accuracy: 0.8530\n",
      "Epoch 38/100\n",
      "250/250 [==============================] - 0s 916us/step - loss: 0.3526 - accuracy: 0.8546\n",
      "Epoch 39/100\n",
      "250/250 [==============================] - 0s 835us/step - loss: 0.3514 - accuracy: 0.8554\n",
      "Epoch 40/100\n",
      "250/250 [==============================] - 0s 847us/step - loss: 0.3508 - accuracy: 0.8564\n",
      "Epoch 41/100\n",
      "250/250 [==============================] - 0s 839us/step - loss: 0.3508 - accuracy: 0.8550\n",
      "Epoch 42/100\n",
      "250/250 [==============================] - 0s 831us/step - loss: 0.3497 - accuracy: 0.8568\n",
      "Epoch 43/100\n",
      "250/250 [==============================] - 0s 851us/step - loss: 0.3496 - accuracy: 0.8561\n",
      "Epoch 44/100\n",
      "250/250 [==============================] - 0s 827us/step - loss: 0.3490 - accuracy: 0.8572\n",
      "Epoch 45/100\n",
      "250/250 [==============================] - 0s 831us/step - loss: 0.3483 - accuracy: 0.8579\n",
      "Epoch 46/100\n",
      "250/250 [==============================] - 0s 835us/step - loss: 0.3472 - accuracy: 0.8579\n",
      "Epoch 47/100\n",
      "250/250 [==============================] - 0s 835us/step - loss: 0.3469 - accuracy: 0.8574\n",
      "Epoch 48/100\n",
      "250/250 [==============================] - 0s 835us/step - loss: 0.3467 - accuracy: 0.8576\n",
      "Epoch 49/100\n",
      "250/250 [==============================] - 0s 819us/step - loss: 0.3461 - accuracy: 0.8601\n",
      "Epoch 50/100\n",
      "250/250 [==============================] - 0s 831us/step - loss: 0.3455 - accuracy: 0.8589\n",
      "Epoch 51/100\n",
      "250/250 [==============================] - 0s 827us/step - loss: 0.3459 - accuracy: 0.8583\n",
      "Epoch 52/100\n",
      "250/250 [==============================] - 0s 847us/step - loss: 0.3450 - accuracy: 0.8581\n",
      "Epoch 53/100\n",
      "250/250 [==============================] - 0s 855us/step - loss: 0.3442 - accuracy: 0.8593\n",
      "Epoch 54/100\n",
      "250/250 [==============================] - 0s 839us/step - loss: 0.3437 - accuracy: 0.8605\n",
      "Epoch 55/100\n",
      "250/250 [==============================] - 0s 847us/step - loss: 0.3436 - accuracy: 0.8605\n",
      "Epoch 56/100\n",
      "250/250 [==============================] - 0s 839us/step - loss: 0.3435 - accuracy: 0.8594\n",
      "Epoch 57/100\n",
      "250/250 [==============================] - 0s 847us/step - loss: 0.3428 - accuracy: 0.8604\n",
      "Epoch 58/100\n",
      "250/250 [==============================] - 0s 892us/step - loss: 0.3424 - accuracy: 0.8616\n",
      "Epoch 59/100\n",
      "250/250 [==============================] - 0s 916us/step - loss: 0.3420 - accuracy: 0.8593\n",
      "Epoch 60/100\n",
      "250/250 [==============================] - 0s 896us/step - loss: 0.3423 - accuracy: 0.8619\n",
      "Epoch 61/100\n",
      "250/250 [==============================] - 0s 884us/step - loss: 0.3419 - accuracy: 0.8610\n",
      "Epoch 62/100\n",
      "250/250 [==============================] - 0s 867us/step - loss: 0.3411 - accuracy: 0.8597\n",
      "Epoch 63/100\n",
      "250/250 [==============================] - 0s 888us/step - loss: 0.3416 - accuracy: 0.8620\n",
      "Epoch 64/100\n",
      "250/250 [==============================] - 0s 855us/step - loss: 0.3409 - accuracy: 0.8594\n",
      "Epoch 65/100\n",
      "250/250 [==============================] - 0s 847us/step - loss: 0.3406 - accuracy: 0.8587\n",
      "Epoch 66/100\n",
      "250/250 [==============================] - 0s 859us/step - loss: 0.3399 - accuracy: 0.8608\n",
      "Epoch 67/100\n",
      "250/250 [==============================] - 0s 960us/step - loss: 0.3400 - accuracy: 0.8611\n",
      "Epoch 68/100\n",
      "250/250 [==============================] - 0s 811us/step - loss: 0.3399 - accuracy: 0.8615\n",
      "Epoch 69/100\n",
      "250/250 [==============================] - 0s 807us/step - loss: 0.3398 - accuracy: 0.8619\n",
      "Epoch 70/100\n",
      "250/250 [==============================] - 0s 819us/step - loss: 0.3394 - accuracy: 0.8615\n",
      "Epoch 71/100\n",
      "250/250 [==============================] - 0s 803us/step - loss: 0.3392 - accuracy: 0.8625\n",
      "Epoch 72/100\n",
      "250/250 [==============================] - 0s 799us/step - loss: 0.3381 - accuracy: 0.8625\n",
      "Epoch 73/100\n",
      "250/250 [==============================] - 0s 803us/step - loss: 0.3389 - accuracy: 0.8610\n",
      "Epoch 74/100\n",
      "250/250 [==============================] - 0s 795us/step - loss: 0.3388 - accuracy: 0.8609\n",
      "Epoch 75/100\n",
      "250/250 [==============================] - 0s 831us/step - loss: 0.3380 - accuracy: 0.8627\n",
      "Epoch 76/100\n",
      "250/250 [==============================] - 0s 892us/step - loss: 0.3387 - accuracy: 0.8625\n",
      "Epoch 77/100\n",
      "250/250 [==============================] - 0s 843us/step - loss: 0.3384 - accuracy: 0.8616\n",
      "Epoch 78/100\n",
      "250/250 [==============================] - 0s 851us/step - loss: 0.3386 - accuracy: 0.8605\n",
      "Epoch 79/100\n",
      "250/250 [==============================] - 0s 847us/step - loss: 0.3383 - accuracy: 0.8619\n",
      "Epoch 80/100\n",
      "250/250 [==============================] - 0s 880us/step - loss: 0.3382 - accuracy: 0.8619\n",
      "Epoch 81/100\n",
      "250/250 [==============================] - 0s 823us/step - loss: 0.3386 - accuracy: 0.8633\n",
      "Epoch 82/100\n",
      "250/250 [==============================] - 0s 843us/step - loss: 0.3374 - accuracy: 0.8622\n",
      "Epoch 83/100\n",
      "250/250 [==============================] - 0s 847us/step - loss: 0.3380 - accuracy: 0.8629\n",
      "Epoch 84/100\n",
      "250/250 [==============================] - 0s 847us/step - loss: 0.3373 - accuracy: 0.8616\n",
      "Epoch 85/100\n",
      "250/250 [==============================] - 0s 835us/step - loss: 0.3373 - accuracy: 0.8627\n",
      "Epoch 86/100\n",
      "250/250 [==============================] - 0s 831us/step - loss: 0.3372 - accuracy: 0.8621\n",
      "Epoch 87/100\n",
      "250/250 [==============================] - 0s 843us/step - loss: 0.3368 - accuracy: 0.8618\n",
      "Epoch 88/100\n",
      "250/250 [==============================] - 0s 896us/step - loss: 0.3365 - accuracy: 0.8627\n",
      "Epoch 89/100\n",
      "250/250 [==============================] - 0s 912us/step - loss: 0.3374 - accuracy: 0.8634\n",
      "Epoch 90/100\n",
      "250/250 [==============================] - 0s 904us/step - loss: 0.3365 - accuracy: 0.8621\n",
      "Epoch 91/100\n",
      "250/250 [==============================] - 0s 888us/step - loss: 0.3370 - accuracy: 0.8621\n",
      "Epoch 92/100\n",
      "250/250 [==============================] - 0s 884us/step - loss: 0.3364 - accuracy: 0.8615\n",
      "Epoch 93/100\n",
      "250/250 [==============================] - 0s 875us/step - loss: 0.3363 - accuracy: 0.8622\n",
      "Epoch 94/100\n",
      "250/250 [==============================] - 0s 884us/step - loss: 0.3364 - accuracy: 0.8624\n",
      "Epoch 95/100\n",
      "250/250 [==============================] - 0s 964us/step - loss: 0.3366 - accuracy: 0.8627\n",
      "Epoch 96/100\n",
      "250/250 [==============================] - 0s 835us/step - loss: 0.3369 - accuracy: 0.8619\n",
      "Epoch 97/100\n",
      "250/250 [==============================] - 0s 863us/step - loss: 0.3364 - accuracy: 0.8630\n",
      "Epoch 98/100\n",
      "250/250 [==============================] - 0s 855us/step - loss: 0.3374 - accuracy: 0.8616\n",
      "Epoch 99/100\n",
      "250/250 [==============================] - 0s 855us/step - loss: 0.3368 - accuracy: 0.8644\n",
      "Epoch 100/100\n",
      "250/250 [==============================] - 0s 867us/step - loss: 0.3365 - accuracy: 0.8606\n"
     ]
    },
    {
     "data": {
      "text/plain": [
       "<keras.callbacks.History at 0x24afe687400>"
      ]
     },
     "execution_count": 17,
     "metadata": {},
     "output_type": "execute_result"
    }
   ],
   "source": [
    "ann.fit(X_train, y_train, batch_size= 32, epochs= 100)"
   ]
  },
  {
   "cell_type": "markdown",
   "metadata": {},
   "source": [
    "## Making predictions and evaluating the model"
   ]
  },
  {
   "cell_type": "markdown",
   "metadata": {},
   "source": [
    "### Predicting result of single observation"
   ]
  },
  {
   "cell_type": "code",
   "execution_count": 18,
   "metadata": {},
   "outputs": [
    {
     "name": "stdout",
     "output_type": "stream",
     "text": [
      "1/1 [==============================] - 0s 191ms/step\n",
      "[[False]]\n"
     ]
    }
   ],
   "source": [
    "print(ann.predict(rsc.transform(\n",
    "    [[1, 0, 0, 600, 1, 40, 3, 60000, 2, 1, 1, 50000]])) > 0.5)\n"
   ]
  },
  {
   "cell_type": "markdown",
   "metadata": {},
   "source": [
    "### Predicting Test set Results"
   ]
  },
  {
   "cell_type": "code",
   "execution_count": 20,
   "metadata": {},
   "outputs": [
    {
     "name": "stdout",
     "output_type": "stream",
     "text": [
      "63/63 [==============================] - 0s 645us/step\n",
      "[[0 0]\n",
      " [0 1]\n",
      " [0 0]\n",
      " ...\n",
      " [0 0]\n",
      " [0 0]\n",
      " [0 0]]\n"
     ]
    }
   ],
   "source": [
    "y_pred = ann.predict(X_test)\n",
    "y_pred = (y_pred > 0.5)\n",
    "print(np.concatenate((y_pred.reshape(len(y_pred),1), y_test.reshape(len(y_test),1)),1))"
   ]
  },
  {
   "cell_type": "markdown",
   "metadata": {},
   "source": [
    "### Confusion matrix"
   ]
  },
  {
   "cell_type": "code",
   "execution_count": 21,
   "metadata": {},
   "outputs": [
    {
     "name": "stdout",
     "output_type": "stream",
     "text": [
      "[[1521   74]\n",
      " [ 198  207]]\n"
     ]
    },
    {
     "data": {
      "text/plain": [
       "0.864"
      ]
     },
     "execution_count": 21,
     "metadata": {},
     "output_type": "execute_result"
    }
   ],
   "source": [
    "from sklearn.metrics import confusion_matrix, accuracy_score\n",
    "cm = confusion_matrix(y_test, y_pred)\n",
    "print(cm)\n",
    "accuracy_score(y_test, y_pred)\n"
   ]
  }
 ],
 "metadata": {
  "kernelspec": {
   "display_name": "Python 3.10.5 64-bit",
   "language": "python",
   "name": "python3"
  },
  "language_info": {
   "codemirror_mode": {
    "name": "ipython",
    "version": 3
   },
   "file_extension": ".py",
   "mimetype": "text/x-python",
   "name": "python",
   "nbconvert_exporter": "python",
   "pygments_lexer": "ipython3",
   "version": "3.10.5"
  },
  "orig_nbformat": 4,
  "vscode": {
   "interpreter": {
    "hash": "369f2c481f4da34e4445cda3fffd2e751bd1c4d706f27375911949ba6bb62e1c"
   }
  }
 },
 "nbformat": 4,
 "nbformat_minor": 2
}
