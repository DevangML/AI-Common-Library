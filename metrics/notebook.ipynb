{
 "cells": [
  {
   "cell_type": "markdown",
   "metadata": {},
   "source": [
    "# CAP (Cumulative Accuracy Profile) Curve\n",
    "\n",
    "Better the model higher is the area under CAP curve\n",
    "\n",
    "Formula:\n",
    "\n",
    "AR = aR / aP (Area under our model / Area Under Perfect Model)\n",
    "\n",
    "Approach 2:\n",
    "\n",
    "from 50% mark on x axis draw vertical line to good model and then move left to meet y-axis name it point X\n",
    "\n",
    "If X < 60% --> Rubbish model\n",
    "If 60% < X < 70% --> Poor Model\n",
    "If 70% < X < 80% --> Good Model\n",
    "If 80% < X < 90% --> Very Good Model\n",
    "If X > 90% --> Too Good (Overfitting) (Predicting the far future) (forward looking variables+-)"
   ]
  },
  {
   "cell_type": "markdown",
   "metadata": {},
   "source": [
    "# WCSS\n",
    "\n",
    "WCSS must be less"
   ]
  }
 ],
 "metadata": {
  "kernelspec": {
   "display_name": "Python 3.10.5 64-bit",
   "language": "python",
   "name": "python3"
  },
  "language_info": {
   "name": "python",
   "version": "3.10.5"
  },
  "orig_nbformat": 4,
  "vscode": {
   "interpreter": {
    "hash": "e7370f93d1d0cde622a1f8e1c04877d8463912d04d973331ad4851f04de6915a"
   }
  }
 },
 "nbformat": 4,
 "nbformat_minor": 2
}
