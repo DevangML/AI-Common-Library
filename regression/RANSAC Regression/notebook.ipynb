{
 "cells": [
  {
   "cell_type": "markdown",
   "metadata": {},
   "source": [
    "# RANSAC Regression\n",
    "\n",
    "Random Sample Consensus, or RANSAC for short, is another robust regression algorithm.\n",
    "\n",
    "RANSAC tries to separate data into outliers and inliers and fits the model on the inliers."
   ]
  },
  {
   "cell_type": "code",
   "execution_count": 1,
   "metadata": {},
   "outputs": [],
   "source": [
    "from random import random\n",
    "from random import randint\n",
    "from random import seed\n",
    "from numpy import arange\n",
    "from numpy import mean\n",
    "from numpy import std\n",
    "from numpy import absolute\n",
    "from sklearn.datasets import make_regression\n",
    "from sklearn.linear_model import RANSACRegressor\n",
    "from sklearn.model_selection import cross_val_score\n",
    "from sklearn.model_selection import RepeatedKFold\n",
    "from matplotlib import pyplot"
   ]
  },
  {
   "cell_type": "code",
   "execution_count": 2,
   "metadata": {},
   "outputs": [],
   "source": [
    "seed(1)\n",
    "\n",
    "X, y = make_regression(n_samples=100, n_features=1, tail_strength=0.9, effective_rank=1, n_informative=1, noise=3, bias=50, random_state=1)\n",
    "\t# add some artificial outliers\n",
    "\n",
    "for i in range(10):\n",
    "  factor = randint(2, 4)\n",
    "  if random() > 0.5:\n",
    "    X[i] += factor * X.std()\n",
    "  else:\n",
    "    X[i] -= factor * X.std()"
   ]
  },
  {
   "cell_type": "code",
   "execution_count": 3,
   "metadata": {},
   "outputs": [],
   "source": [
    "model = RANSACRegressor()"
   ]
  },
  {
   "cell_type": "code",
   "execution_count": 4,
   "metadata": {},
   "outputs": [
    {
     "data": {
      "text/plain": [
       "array([ 1.43262221,  2.23545629,  5.73375379,  2.08443892,  2.72322472,\n",
       "        5.90584612,  7.0729012 ,  4.08642301,  5.63645409,  7.20153407,\n",
       "        6.71773243,  7.40152336,  5.83069679,  1.24320756,  1.46107771,\n",
       "        3.6006956 ,  2.69533325,  2.18677182,  2.05357021, 11.18169871,\n",
       "        4.68408003,  4.2604483 ,  3.75147077,  4.39210973,  5.49329365,\n",
       "        4.15558635,  4.34755678,  3.55858134,  5.339791  ,  4.2474376 ])"
      ]
     },
     "execution_count": 4,
     "metadata": {},
     "output_type": "execute_result"
    }
   ],
   "source": [
    "# define model evaluation method\n",
    "cv = RepeatedKFold(n_splits=10, n_repeats=3, random_state=1)\n",
    "# evaluate model\n",
    "scores = cross_val_score(model, X, y, scoring='neg_mean_absolute_error', cv=cv, n_jobs=-1)\n",
    "\n",
    "absolute(scores)"
   ]
  },
  {
   "cell_type": "code",
   "execution_count": 5,
   "metadata": {},
   "outputs": [
    {
     "data": {
      "image/png": "[encoded data removed]",
      "text/plain": [
       "<Figure size 432x288 with 1 Axes>"
      ]
     },
     "metadata": {
      "needs_background": "light"
     },
     "output_type": "display_data"
    }
   ],
   "source": [
    "# fut the model on all data\n",
    "model.fit(X, y)\n",
    "# plot the dataset\n",
    "pyplot.scatter(X, y)\n",
    "# plot the line of best fit\n",
    "xaxis = arange(X.min(), X.max(), 0.01)\n",
    "yaxis = model.predict(xaxis.reshape((len(xaxis), 1)))\n",
    "pyplot.plot(xaxis, yaxis, color='r')\n",
    "# show the plot\n",
    "pyplot.title(type(model).__name__)\n",
    "pyplot.show()"
   ]
  }
 ],
 "metadata": {
  "kernelspec": {
   "display_name": "Python 3.10.5 64-bit",
   "language": "python",
   "name": "python3"
  },
  "language_info": {
   "codemirror_mode": {
    "name": "ipython",
    "version": 3
   },
   "file_extension": ".py",
   "mimetype": "text/x-python",
   "name": "python",
   "nbconvert_exporter": "python",
   "pygments_lexer": "ipython3",
   "version": "3.10.5"
  },
  "orig_nbformat": 4,
  "vscode": {
   "interpreter": {
    "hash": "e7370f93d1d0cde622a1f8e1c04877d8463912d04d973331ad4851f04de6915a"
   }
  }
 },
 "nbformat": 4,
 "nbformat_minor": 2
}
